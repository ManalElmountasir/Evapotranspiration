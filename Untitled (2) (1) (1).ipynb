{
 "cells": [
  {
   "cell_type": "code",
   "execution_count": 1,
   "id": "6ab34516",
   "metadata": {},
   "outputs": [],
   "source": [
    "import matplotlib.pyplot  as plt\n",
    "import numpy as np\n",
    "import pandas as pd"
   ]
  },
  {
   "cell_type": "code",
   "execution_count": 2,
   "id": "ccc328f1",
   "metadata": {},
   "outputs": [],
   "source": [
    "df = pd.read_csv('dataET0.csv',delimiter=';',decimal=',')"
   ]
  },
  {
   "cell_type": "code",
   "execution_count": 3,
   "id": "0b79ed61",
   "metadata": {},
   "outputs": [
    {
     "data": {
      "text/html": [
       "<div>\n",
       "<style scoped>\n",
       "    .dataframe tbody tr th:only-of-type {\n",
       "        vertical-align: middle;\n",
       "    }\n",
       "\n",
       "    .dataframe tbody tr th {\n",
       "        vertical-align: top;\n",
       "    }\n",
       "\n",
       "    .dataframe thead th {\n",
       "        text-align: right;\n",
       "    }\n",
       "</style>\n",
       "<table border=\"1\" class=\"dataframe\">\n",
       "  <thead>\n",
       "    <tr style=\"text-align: right;\">\n",
       "      <th></th>\n",
       "      <th>Date/heure</th>\n",
       "      <th>moy_Temp[°C]</th>\n",
       "      <th>max_Temp[°C]</th>\n",
       "      <th>min_Temp[°C]</th>\n",
       "      <th>moy_DewPoint[°C]</th>\n",
       "      <th>min_DewPoint[°C]</th>\n",
       "      <th>moy_SolarRadiation[W/m2]</th>\n",
       "      <th>moy_VPD[kPa]</th>\n",
       "      <th>min_VPD[kPa]</th>\n",
       "      <th>moy_RelativeHumidity[%]</th>\n",
       "      <th>max_RelativeHumidity[%]</th>\n",
       "      <th>min_RelativeHumidity[%]</th>\n",
       "      <th>Somme_Precipitation[mm]</th>\n",
       "      <th>moy_WindSpeed[m/s]</th>\n",
       "      <th>max_WindSpeed[m/s]</th>\n",
       "      <th>max_WindSpeedMax[m/s]</th>\n",
       "      <th>moy_WindDirection[deg]</th>\n",
       "      <th>dernier_WindDirection[deg]</th>\n",
       "      <th>ETP quotidien [mm]</th>\n",
       "    </tr>\n",
       "  </thead>\n",
       "  <tbody>\n",
       "    <tr>\n",
       "      <th>0</th>\n",
       "      <td>05/08/2022 00:00</td>\n",
       "      <td>24.73</td>\n",
       "      <td>35.08</td>\n",
       "      <td>15.11</td>\n",
       "      <td>12.4</td>\n",
       "      <td>8.8</td>\n",
       "      <td>361</td>\n",
       "      <td>1.90</td>\n",
       "      <td>0.30</td>\n",
       "      <td>51.87</td>\n",
       "      <td>83.30</td>\n",
       "      <td>22.00</td>\n",
       "      <td>0.0</td>\n",
       "      <td>0.5</td>\n",
       "      <td>2.1</td>\n",
       "      <td>4.4</td>\n",
       "      <td>NaN</td>\n",
       "      <td>NaN</td>\n",
       "      <td>NaN</td>\n",
       "    </tr>\n",
       "    <tr>\n",
       "      <th>1</th>\n",
       "      <td>04/08/2022 00:00</td>\n",
       "      <td>25.26</td>\n",
       "      <td>35.79</td>\n",
       "      <td>16.40</td>\n",
       "      <td>14.6</td>\n",
       "      <td>8.0</td>\n",
       "      <td>288</td>\n",
       "      <td>1.73</td>\n",
       "      <td>0.00</td>\n",
       "      <td>59.06</td>\n",
       "      <td>99.54</td>\n",
       "      <td>19.84</td>\n",
       "      <td>0.0</td>\n",
       "      <td>0.6</td>\n",
       "      <td>1.7</td>\n",
       "      <td>5.3</td>\n",
       "      <td>NaN</td>\n",
       "      <td>NaN</td>\n",
       "      <td>5.0</td>\n",
       "    </tr>\n",
       "    <tr>\n",
       "      <th>2</th>\n",
       "      <td>03/08/2022 00:00</td>\n",
       "      <td>28.37</td>\n",
       "      <td>36.71</td>\n",
       "      <td>19.80</td>\n",
       "      <td>12.3</td>\n",
       "      <td>7.4</td>\n",
       "      <td>285</td>\n",
       "      <td>2.56</td>\n",
       "      <td>0.95</td>\n",
       "      <td>38.43</td>\n",
       "      <td>65.76</td>\n",
       "      <td>23.60</td>\n",
       "      <td>0.0</td>\n",
       "      <td>0.7</td>\n",
       "      <td>2.6</td>\n",
       "      <td>5.3</td>\n",
       "      <td>NaN</td>\n",
       "      <td>NaN</td>\n",
       "      <td>5.3</td>\n",
       "    </tr>\n",
       "    <tr>\n",
       "      <th>3</th>\n",
       "      <td>02/08/2022 00:00</td>\n",
       "      <td>32.17</td>\n",
       "      <td>43.43</td>\n",
       "      <td>19.68</td>\n",
       "      <td>0.9</td>\n",
       "      <td>-4.7</td>\n",
       "      <td>296</td>\n",
       "      <td>4.55</td>\n",
       "      <td>1.70</td>\n",
       "      <td>16.44</td>\n",
       "      <td>38.56</td>\n",
       "      <td>5.23</td>\n",
       "      <td>0.0</td>\n",
       "      <td>0.6</td>\n",
       "      <td>2.3</td>\n",
       "      <td>6.6</td>\n",
       "      <td>NaN</td>\n",
       "      <td>NaN</td>\n",
       "      <td>5.3</td>\n",
       "    </tr>\n",
       "    <tr>\n",
       "      <th>4</th>\n",
       "      <td>01/08/2022 00:00</td>\n",
       "      <td>32.30</td>\n",
       "      <td>41.90</td>\n",
       "      <td>21.26</td>\n",
       "      <td>8.7</td>\n",
       "      <td>1.5</td>\n",
       "      <td>290</td>\n",
       "      <td>3.97</td>\n",
       "      <td>1.39</td>\n",
       "      <td>26.68</td>\n",
       "      <td>47.56</td>\n",
       "      <td>9.52</td>\n",
       "      <td>0.0</td>\n",
       "      <td>0.6</td>\n",
       "      <td>2.7</td>\n",
       "      <td>6.7</td>\n",
       "      <td>NaN</td>\n",
       "      <td>NaN</td>\n",
       "      <td>5.5</td>\n",
       "    </tr>\n",
       "    <tr>\n",
       "      <th>...</th>\n",
       "      <td>...</td>\n",
       "      <td>...</td>\n",
       "      <td>...</td>\n",
       "      <td>...</td>\n",
       "      <td>...</td>\n",
       "      <td>...</td>\n",
       "      <td>...</td>\n",
       "      <td>...</td>\n",
       "      <td>...</td>\n",
       "      <td>...</td>\n",
       "      <td>...</td>\n",
       "      <td>...</td>\n",
       "      <td>...</td>\n",
       "      <td>...</td>\n",
       "      <td>...</td>\n",
       "      <td>...</td>\n",
       "      <td>...</td>\n",
       "      <td>...</td>\n",
       "      <td>...</td>\n",
       "    </tr>\n",
       "    <tr>\n",
       "      <th>1776</th>\n",
       "      <td>04/09/2017 00:00</td>\n",
       "      <td>26.19</td>\n",
       "      <td>27.22</td>\n",
       "      <td>25.43</td>\n",
       "      <td>19.0</td>\n",
       "      <td>17.9</td>\n",
       "      <td>0</td>\n",
       "      <td>1.18</td>\n",
       "      <td>1.04</td>\n",
       "      <td>65.12</td>\n",
       "      <td>68.01</td>\n",
       "      <td>57.11</td>\n",
       "      <td>5.4</td>\n",
       "      <td>0.0</td>\n",
       "      <td>0.5</td>\n",
       "      <td>NaN</td>\n",
       "      <td>NaN</td>\n",
       "      <td>NaN</td>\n",
       "      <td>0.6</td>\n",
       "    </tr>\n",
       "    <tr>\n",
       "      <th>1777</th>\n",
       "      <td>06/06/2017 00:00</td>\n",
       "      <td>26.21</td>\n",
       "      <td>26.42</td>\n",
       "      <td>25.51</td>\n",
       "      <td>17.4</td>\n",
       "      <td>17.2</td>\n",
       "      <td>0</td>\n",
       "      <td>1.40</td>\n",
       "      <td>1.28</td>\n",
       "      <td>58.50</td>\n",
       "      <td>60.93</td>\n",
       "      <td>57.18</td>\n",
       "      <td>0.0</td>\n",
       "      <td>0.0</td>\n",
       "      <td>0.0</td>\n",
       "      <td>NaN</td>\n",
       "      <td>299.0</td>\n",
       "      <td>299.0</td>\n",
       "      <td>NaN</td>\n",
       "    </tr>\n",
       "    <tr>\n",
       "      <th>1778</th>\n",
       "      <td>05/06/2017 00:00</td>\n",
       "      <td>26.31</td>\n",
       "      <td>26.47</td>\n",
       "      <td>26.10</td>\n",
       "      <td>16.0</td>\n",
       "      <td>15.3</td>\n",
       "      <td>0</td>\n",
       "      <td>1.58</td>\n",
       "      <td>1.48</td>\n",
       "      <td>53.43</td>\n",
       "      <td>56.89</td>\n",
       "      <td>51.64</td>\n",
       "      <td>0.0</td>\n",
       "      <td>0.0</td>\n",
       "      <td>0.0</td>\n",
       "      <td>NaN</td>\n",
       "      <td>228.0</td>\n",
       "      <td>228.0</td>\n",
       "      <td>NaN</td>\n",
       "    </tr>\n",
       "    <tr>\n",
       "      <th>1779</th>\n",
       "      <td>10/04/2017 00:00</td>\n",
       "      <td>23.58</td>\n",
       "      <td>23.92</td>\n",
       "      <td>22.89</td>\n",
       "      <td>14.9</td>\n",
       "      <td>14.1</td>\n",
       "      <td>2</td>\n",
       "      <td>1.20</td>\n",
       "      <td>1.13</td>\n",
       "      <td>58.56</td>\n",
       "      <td>61.86</td>\n",
       "      <td>56.71</td>\n",
       "      <td>0.0</td>\n",
       "      <td>NaN</td>\n",
       "      <td>NaN</td>\n",
       "      <td>NaN</td>\n",
       "      <td>NaN</td>\n",
       "      <td>NaN</td>\n",
       "      <td>NaN</td>\n",
       "    </tr>\n",
       "    <tr>\n",
       "      <th>1780</th>\n",
       "      <td>10/11/2016 00:00</td>\n",
       "      <td>21.87</td>\n",
       "      <td>22.60</td>\n",
       "      <td>20.94</td>\n",
       "      <td>3.8</td>\n",
       "      <td>3.4</td>\n",
       "      <td>93</td>\n",
       "      <td>1.81</td>\n",
       "      <td>1.66</td>\n",
       "      <td>30.93</td>\n",
       "      <td>32.73</td>\n",
       "      <td>29.15</td>\n",
       "      <td>0.0</td>\n",
       "      <td>NaN</td>\n",
       "      <td>NaN</td>\n",
       "      <td>NaN</td>\n",
       "      <td>NaN</td>\n",
       "      <td>NaN</td>\n",
       "      <td>NaN</td>\n",
       "    </tr>\n",
       "  </tbody>\n",
       "</table>\n",
       "<p>1781 rows × 19 columns</p>\n",
       "</div>"
      ],
      "text/plain": [
       "            Date/heure  moy_Temp[°C]  max_Temp[°C]  min_Temp[°C]  \\\n",
       "0     05/08/2022 00:00         24.73         35.08         15.11   \n",
       "1     04/08/2022 00:00         25.26         35.79         16.40   \n",
       "2     03/08/2022 00:00         28.37         36.71         19.80   \n",
       "3     02/08/2022 00:00         32.17         43.43         19.68   \n",
       "4     01/08/2022 00:00         32.30         41.90         21.26   \n",
       "...                ...           ...           ...           ...   \n",
       "1776  04/09/2017 00:00         26.19         27.22         25.43   \n",
       "1777  06/06/2017 00:00         26.21         26.42         25.51   \n",
       "1778  05/06/2017 00:00         26.31         26.47         26.10   \n",
       "1779  10/04/2017 00:00         23.58         23.92         22.89   \n",
       "1780  10/11/2016 00:00         21.87         22.60         20.94   \n",
       "\n",
       "      moy_DewPoint[°C]  min_DewPoint[°C]  moy_SolarRadiation[W/m2]  \\\n",
       "0                 12.4               8.8                       361   \n",
       "1                 14.6               8.0                       288   \n",
       "2                 12.3               7.4                       285   \n",
       "3                  0.9              -4.7                       296   \n",
       "4                  8.7               1.5                       290   \n",
       "...                ...               ...                       ...   \n",
       "1776              19.0              17.9                         0   \n",
       "1777              17.4              17.2                         0   \n",
       "1778              16.0              15.3                         0   \n",
       "1779              14.9              14.1                         2   \n",
       "1780               3.8               3.4                        93   \n",
       "\n",
       "      moy_VPD[kPa]  min_VPD[kPa]  moy_RelativeHumidity[%]  \\\n",
       "0             1.90          0.30                    51.87   \n",
       "1             1.73          0.00                    59.06   \n",
       "2             2.56          0.95                    38.43   \n",
       "3             4.55          1.70                    16.44   \n",
       "4             3.97          1.39                    26.68   \n",
       "...            ...           ...                      ...   \n",
       "1776          1.18          1.04                    65.12   \n",
       "1777          1.40          1.28                    58.50   \n",
       "1778          1.58          1.48                    53.43   \n",
       "1779          1.20          1.13                    58.56   \n",
       "1780          1.81          1.66                    30.93   \n",
       "\n",
       "      max_RelativeHumidity[%]  min_RelativeHumidity[%]  \\\n",
       "0                       83.30                    22.00   \n",
       "1                       99.54                    19.84   \n",
       "2                       65.76                    23.60   \n",
       "3                       38.56                     5.23   \n",
       "4                       47.56                     9.52   \n",
       "...                       ...                      ...   \n",
       "1776                    68.01                    57.11   \n",
       "1777                    60.93                    57.18   \n",
       "1778                    56.89                    51.64   \n",
       "1779                    61.86                    56.71   \n",
       "1780                    32.73                    29.15   \n",
       "\n",
       "      Somme_Precipitation[mm]  moy_WindSpeed[m/s]  max_WindSpeed[m/s]  \\\n",
       "0                         0.0                 0.5                 2.1   \n",
       "1                         0.0                 0.6                 1.7   \n",
       "2                         0.0                 0.7                 2.6   \n",
       "3                         0.0                 0.6                 2.3   \n",
       "4                         0.0                 0.6                 2.7   \n",
       "...                       ...                 ...                 ...   \n",
       "1776                      5.4                 0.0                 0.5   \n",
       "1777                      0.0                 0.0                 0.0   \n",
       "1778                      0.0                 0.0                 0.0   \n",
       "1779                      0.0                 NaN                 NaN   \n",
       "1780                      0.0                 NaN                 NaN   \n",
       "\n",
       "      max_WindSpeedMax[m/s]  moy_WindDirection[deg]  \\\n",
       "0                       4.4                     NaN   \n",
       "1                       5.3                     NaN   \n",
       "2                       5.3                     NaN   \n",
       "3                       6.6                     NaN   \n",
       "4                       6.7                     NaN   \n",
       "...                     ...                     ...   \n",
       "1776                    NaN                     NaN   \n",
       "1777                    NaN                   299.0   \n",
       "1778                    NaN                   228.0   \n",
       "1779                    NaN                     NaN   \n",
       "1780                    NaN                     NaN   \n",
       "\n",
       "      dernier_WindDirection[deg]  ETP quotidien [mm]  \n",
       "0                            NaN                 NaN  \n",
       "1                            NaN                 5.0  \n",
       "2                            NaN                 5.3  \n",
       "3                            NaN                 5.3  \n",
       "4                            NaN                 5.5  \n",
       "...                          ...                 ...  \n",
       "1776                         NaN                 0.6  \n",
       "1777                       299.0                 NaN  \n",
       "1778                       228.0                 NaN  \n",
       "1779                         NaN                 NaN  \n",
       "1780                         NaN                 NaN  \n",
       "\n",
       "[1781 rows x 19 columns]"
      ]
     },
     "execution_count": 3,
     "metadata": {},
     "output_type": "execute_result"
    }
   ],
   "source": [
    "df"
   ]
  },
  {
   "cell_type": "code",
   "execution_count": 4,
   "id": "ced57cc1",
   "metadata": {},
   "outputs": [
    {
     "data": {
      "text/plain": [
       "Date/heure                       0\n",
       "moy_Temp[°C]                     0\n",
       "max_Temp[°C]                     0\n",
       "min_Temp[°C]                     0\n",
       "moy_DewPoint[°C]                 0\n",
       "min_DewPoint[°C]                 0\n",
       "moy_SolarRadiation[W/m2]         0\n",
       "moy_VPD[kPa]                     0\n",
       "min_VPD[kPa]                     0\n",
       "moy_RelativeHumidity[%]          0\n",
       "max_RelativeHumidity[%]          0\n",
       "min_RelativeHumidity[%]          0\n",
       "Somme_Precipitation[mm]          0\n",
       "moy_WindSpeed[m/s]               2\n",
       "max_WindSpeed[m/s]               2\n",
       "max_WindSpeedMax[m/s]          103\n",
       "moy_WindDirection[deg]        1779\n",
       "dernier_WindDirection[deg]    1779\n",
       "ETP quotidien [mm]               6\n",
       "dtype: int64"
      ]
     },
     "execution_count": 4,
     "metadata": {},
     "output_type": "execute_result"
    }
   ],
   "source": [
    "df.isna().sum()"
   ]
  },
  {
   "cell_type": "code",
   "execution_count": 5,
   "id": "052613b5",
   "metadata": {
    "scrolled": true
   },
   "outputs": [
    {
     "name": "stderr",
     "output_type": "stream",
     "text": [
      "C:\\Users\\Smart Toshiba\\AppData\\Local\\Temp\\ipykernel_30892\\3802254522.py:1: FutureWarning: Dropping of nuisance columns in DataFrame reductions (with 'numeric_only=None') is deprecated; in a future version this will raise TypeError.  Select only valid columns before calling the reduction.\n",
      "  df_mean = df.fillna(df.mean())\n"
     ]
    }
   ],
   "source": [
    "df_mean = df.fillna(df.mean())"
   ]
  },
  {
   "cell_type": "code",
   "execution_count": 6,
   "id": "3ee26242",
   "metadata": {},
   "outputs": [
    {
     "name": "stderr",
     "output_type": "stream",
     "text": [
      "C:\\Users\\Smart Toshiba\\AppData\\Local\\Temp\\ipykernel_30892\\3484784094.py:1: FutureWarning: Dropping of nuisance columns in DataFrame reductions (with 'numeric_only=None') is deprecated; in a future version this will raise TypeError.  Select only valid columns before calling the reduction.\n",
      "  df_median = df.fillna(df.median())\n"
     ]
    }
   ],
   "source": [
    "df_median = df.fillna(df.median())"
   ]
  },
  {
   "cell_type": "code",
   "execution_count": 7,
   "id": "4a033bdf",
   "metadata": {},
   "outputs": [
    {
     "data": {
      "text/html": [
       "<div>\n",
       "<style scoped>\n",
       "    .dataframe tbody tr th:only-of-type {\n",
       "        vertical-align: middle;\n",
       "    }\n",
       "\n",
       "    .dataframe tbody tr th {\n",
       "        vertical-align: top;\n",
       "    }\n",
       "\n",
       "    .dataframe thead th {\n",
       "        text-align: right;\n",
       "    }\n",
       "</style>\n",
       "<table border=\"1\" class=\"dataframe\">\n",
       "  <thead>\n",
       "    <tr style=\"text-align: right;\">\n",
       "      <th></th>\n",
       "      <th>Date/heure</th>\n",
       "      <th>moy_Temp[°C]</th>\n",
       "      <th>max_Temp[°C]</th>\n",
       "      <th>min_Temp[°C]</th>\n",
       "      <th>moy_DewPoint[°C]</th>\n",
       "      <th>min_DewPoint[°C]</th>\n",
       "      <th>moy_SolarRadiation[W/m2]</th>\n",
       "      <th>moy_VPD[kPa]</th>\n",
       "      <th>min_VPD[kPa]</th>\n",
       "      <th>moy_RelativeHumidity[%]</th>\n",
       "      <th>max_RelativeHumidity[%]</th>\n",
       "      <th>min_RelativeHumidity[%]</th>\n",
       "      <th>Somme_Precipitation[mm]</th>\n",
       "      <th>moy_WindSpeed[m/s]</th>\n",
       "      <th>max_WindSpeed[m/s]</th>\n",
       "      <th>max_WindSpeedMax[m/s]</th>\n",
       "      <th>moy_WindDirection[deg]</th>\n",
       "      <th>dernier_WindDirection[deg]</th>\n",
       "      <th>ETP quotidien [mm]</th>\n",
       "    </tr>\n",
       "  </thead>\n",
       "  <tbody>\n",
       "    <tr>\n",
       "      <th>0</th>\n",
       "      <td>05/08/2022 00:00</td>\n",
       "      <td>24.73</td>\n",
       "      <td>35.08</td>\n",
       "      <td>15.11</td>\n",
       "      <td>12.4</td>\n",
       "      <td>8.8</td>\n",
       "      <td>361</td>\n",
       "      <td>1.90</td>\n",
       "      <td>0.30</td>\n",
       "      <td>51.87</td>\n",
       "      <td>83.30</td>\n",
       "      <td>22.00</td>\n",
       "      <td>0.0</td>\n",
       "      <td>0.500000</td>\n",
       "      <td>2.100000</td>\n",
       "      <td>4.400000</td>\n",
       "      <td>263.5</td>\n",
       "      <td>263.5</td>\n",
       "      <td>3.022535</td>\n",
       "    </tr>\n",
       "    <tr>\n",
       "      <th>1</th>\n",
       "      <td>04/08/2022 00:00</td>\n",
       "      <td>25.26</td>\n",
       "      <td>35.79</td>\n",
       "      <td>16.40</td>\n",
       "      <td>14.6</td>\n",
       "      <td>8.0</td>\n",
       "      <td>288</td>\n",
       "      <td>1.73</td>\n",
       "      <td>0.00</td>\n",
       "      <td>59.06</td>\n",
       "      <td>99.54</td>\n",
       "      <td>19.84</td>\n",
       "      <td>0.0</td>\n",
       "      <td>0.600000</td>\n",
       "      <td>1.700000</td>\n",
       "      <td>5.300000</td>\n",
       "      <td>263.5</td>\n",
       "      <td>263.5</td>\n",
       "      <td>5.000000</td>\n",
       "    </tr>\n",
       "    <tr>\n",
       "      <th>2</th>\n",
       "      <td>03/08/2022 00:00</td>\n",
       "      <td>28.37</td>\n",
       "      <td>36.71</td>\n",
       "      <td>19.80</td>\n",
       "      <td>12.3</td>\n",
       "      <td>7.4</td>\n",
       "      <td>285</td>\n",
       "      <td>2.56</td>\n",
       "      <td>0.95</td>\n",
       "      <td>38.43</td>\n",
       "      <td>65.76</td>\n",
       "      <td>23.60</td>\n",
       "      <td>0.0</td>\n",
       "      <td>0.700000</td>\n",
       "      <td>2.600000</td>\n",
       "      <td>5.300000</td>\n",
       "      <td>263.5</td>\n",
       "      <td>263.5</td>\n",
       "      <td>5.300000</td>\n",
       "    </tr>\n",
       "    <tr>\n",
       "      <th>3</th>\n",
       "      <td>02/08/2022 00:00</td>\n",
       "      <td>32.17</td>\n",
       "      <td>43.43</td>\n",
       "      <td>19.68</td>\n",
       "      <td>0.9</td>\n",
       "      <td>-4.7</td>\n",
       "      <td>296</td>\n",
       "      <td>4.55</td>\n",
       "      <td>1.70</td>\n",
       "      <td>16.44</td>\n",
       "      <td>38.56</td>\n",
       "      <td>5.23</td>\n",
       "      <td>0.0</td>\n",
       "      <td>0.600000</td>\n",
       "      <td>2.300000</td>\n",
       "      <td>6.600000</td>\n",
       "      <td>263.5</td>\n",
       "      <td>263.5</td>\n",
       "      <td>5.300000</td>\n",
       "    </tr>\n",
       "    <tr>\n",
       "      <th>4</th>\n",
       "      <td>01/08/2022 00:00</td>\n",
       "      <td>32.30</td>\n",
       "      <td>41.90</td>\n",
       "      <td>21.26</td>\n",
       "      <td>8.7</td>\n",
       "      <td>1.5</td>\n",
       "      <td>290</td>\n",
       "      <td>3.97</td>\n",
       "      <td>1.39</td>\n",
       "      <td>26.68</td>\n",
       "      <td>47.56</td>\n",
       "      <td>9.52</td>\n",
       "      <td>0.0</td>\n",
       "      <td>0.600000</td>\n",
       "      <td>2.700000</td>\n",
       "      <td>6.700000</td>\n",
       "      <td>263.5</td>\n",
       "      <td>263.5</td>\n",
       "      <td>5.500000</td>\n",
       "    </tr>\n",
       "    <tr>\n",
       "      <th>...</th>\n",
       "      <td>...</td>\n",
       "      <td>...</td>\n",
       "      <td>...</td>\n",
       "      <td>...</td>\n",
       "      <td>...</td>\n",
       "      <td>...</td>\n",
       "      <td>...</td>\n",
       "      <td>...</td>\n",
       "      <td>...</td>\n",
       "      <td>...</td>\n",
       "      <td>...</td>\n",
       "      <td>...</td>\n",
       "      <td>...</td>\n",
       "      <td>...</td>\n",
       "      <td>...</td>\n",
       "      <td>...</td>\n",
       "      <td>...</td>\n",
       "      <td>...</td>\n",
       "      <td>...</td>\n",
       "    </tr>\n",
       "    <tr>\n",
       "      <th>1776</th>\n",
       "      <td>04/09/2017 00:00</td>\n",
       "      <td>26.19</td>\n",
       "      <td>27.22</td>\n",
       "      <td>25.43</td>\n",
       "      <td>19.0</td>\n",
       "      <td>17.9</td>\n",
       "      <td>0</td>\n",
       "      <td>1.18</td>\n",
       "      <td>1.04</td>\n",
       "      <td>65.12</td>\n",
       "      <td>68.01</td>\n",
       "      <td>57.11</td>\n",
       "      <td>5.4</td>\n",
       "      <td>0.000000</td>\n",
       "      <td>0.500000</td>\n",
       "      <td>5.263349</td>\n",
       "      <td>263.5</td>\n",
       "      <td>263.5</td>\n",
       "      <td>0.600000</td>\n",
       "    </tr>\n",
       "    <tr>\n",
       "      <th>1777</th>\n",
       "      <td>06/06/2017 00:00</td>\n",
       "      <td>26.21</td>\n",
       "      <td>26.42</td>\n",
       "      <td>25.51</td>\n",
       "      <td>17.4</td>\n",
       "      <td>17.2</td>\n",
       "      <td>0</td>\n",
       "      <td>1.40</td>\n",
       "      <td>1.28</td>\n",
       "      <td>58.50</td>\n",
       "      <td>60.93</td>\n",
       "      <td>57.18</td>\n",
       "      <td>0.0</td>\n",
       "      <td>0.000000</td>\n",
       "      <td>0.000000</td>\n",
       "      <td>5.263349</td>\n",
       "      <td>299.0</td>\n",
       "      <td>299.0</td>\n",
       "      <td>3.022535</td>\n",
       "    </tr>\n",
       "    <tr>\n",
       "      <th>1778</th>\n",
       "      <td>05/06/2017 00:00</td>\n",
       "      <td>26.31</td>\n",
       "      <td>26.47</td>\n",
       "      <td>26.10</td>\n",
       "      <td>16.0</td>\n",
       "      <td>15.3</td>\n",
       "      <td>0</td>\n",
       "      <td>1.58</td>\n",
       "      <td>1.48</td>\n",
       "      <td>53.43</td>\n",
       "      <td>56.89</td>\n",
       "      <td>51.64</td>\n",
       "      <td>0.0</td>\n",
       "      <td>0.000000</td>\n",
       "      <td>0.000000</td>\n",
       "      <td>5.263349</td>\n",
       "      <td>228.0</td>\n",
       "      <td>228.0</td>\n",
       "      <td>3.022535</td>\n",
       "    </tr>\n",
       "    <tr>\n",
       "      <th>1779</th>\n",
       "      <td>10/04/2017 00:00</td>\n",
       "      <td>23.58</td>\n",
       "      <td>23.92</td>\n",
       "      <td>22.89</td>\n",
       "      <td>14.9</td>\n",
       "      <td>14.1</td>\n",
       "      <td>2</td>\n",
       "      <td>1.20</td>\n",
       "      <td>1.13</td>\n",
       "      <td>58.56</td>\n",
       "      <td>61.86</td>\n",
       "      <td>56.71</td>\n",
       "      <td>0.0</td>\n",
       "      <td>0.732546</td>\n",
       "      <td>2.322147</td>\n",
       "      <td>5.263349</td>\n",
       "      <td>263.5</td>\n",
       "      <td>263.5</td>\n",
       "      <td>3.022535</td>\n",
       "    </tr>\n",
       "    <tr>\n",
       "      <th>1780</th>\n",
       "      <td>10/11/2016 00:00</td>\n",
       "      <td>21.87</td>\n",
       "      <td>22.60</td>\n",
       "      <td>20.94</td>\n",
       "      <td>3.8</td>\n",
       "      <td>3.4</td>\n",
       "      <td>93</td>\n",
       "      <td>1.81</td>\n",
       "      <td>1.66</td>\n",
       "      <td>30.93</td>\n",
       "      <td>32.73</td>\n",
       "      <td>29.15</td>\n",
       "      <td>0.0</td>\n",
       "      <td>0.732546</td>\n",
       "      <td>2.322147</td>\n",
       "      <td>5.263349</td>\n",
       "      <td>263.5</td>\n",
       "      <td>263.5</td>\n",
       "      <td>3.022535</td>\n",
       "    </tr>\n",
       "  </tbody>\n",
       "</table>\n",
       "<p>1781 rows × 19 columns</p>\n",
       "</div>"
      ],
      "text/plain": [
       "            Date/heure  moy_Temp[°C]  max_Temp[°C]  min_Temp[°C]  \\\n",
       "0     05/08/2022 00:00         24.73         35.08         15.11   \n",
       "1     04/08/2022 00:00         25.26         35.79         16.40   \n",
       "2     03/08/2022 00:00         28.37         36.71         19.80   \n",
       "3     02/08/2022 00:00         32.17         43.43         19.68   \n",
       "4     01/08/2022 00:00         32.30         41.90         21.26   \n",
       "...                ...           ...           ...           ...   \n",
       "1776  04/09/2017 00:00         26.19         27.22         25.43   \n",
       "1777  06/06/2017 00:00         26.21         26.42         25.51   \n",
       "1778  05/06/2017 00:00         26.31         26.47         26.10   \n",
       "1779  10/04/2017 00:00         23.58         23.92         22.89   \n",
       "1780  10/11/2016 00:00         21.87         22.60         20.94   \n",
       "\n",
       "      moy_DewPoint[°C]  min_DewPoint[°C]  moy_SolarRadiation[W/m2]  \\\n",
       "0                 12.4               8.8                       361   \n",
       "1                 14.6               8.0                       288   \n",
       "2                 12.3               7.4                       285   \n",
       "3                  0.9              -4.7                       296   \n",
       "4                  8.7               1.5                       290   \n",
       "...                ...               ...                       ...   \n",
       "1776              19.0              17.9                         0   \n",
       "1777              17.4              17.2                         0   \n",
       "1778              16.0              15.3                         0   \n",
       "1779              14.9              14.1                         2   \n",
       "1780               3.8               3.4                        93   \n",
       "\n",
       "      moy_VPD[kPa]  min_VPD[kPa]  moy_RelativeHumidity[%]  \\\n",
       "0             1.90          0.30                    51.87   \n",
       "1             1.73          0.00                    59.06   \n",
       "2             2.56          0.95                    38.43   \n",
       "3             4.55          1.70                    16.44   \n",
       "4             3.97          1.39                    26.68   \n",
       "...            ...           ...                      ...   \n",
       "1776          1.18          1.04                    65.12   \n",
       "1777          1.40          1.28                    58.50   \n",
       "1778          1.58          1.48                    53.43   \n",
       "1779          1.20          1.13                    58.56   \n",
       "1780          1.81          1.66                    30.93   \n",
       "\n",
       "      max_RelativeHumidity[%]  min_RelativeHumidity[%]  \\\n",
       "0                       83.30                    22.00   \n",
       "1                       99.54                    19.84   \n",
       "2                       65.76                    23.60   \n",
       "3                       38.56                     5.23   \n",
       "4                       47.56                     9.52   \n",
       "...                       ...                      ...   \n",
       "1776                    68.01                    57.11   \n",
       "1777                    60.93                    57.18   \n",
       "1778                    56.89                    51.64   \n",
       "1779                    61.86                    56.71   \n",
       "1780                    32.73                    29.15   \n",
       "\n",
       "      Somme_Precipitation[mm]  moy_WindSpeed[m/s]  max_WindSpeed[m/s]  \\\n",
       "0                         0.0            0.500000            2.100000   \n",
       "1                         0.0            0.600000            1.700000   \n",
       "2                         0.0            0.700000            2.600000   \n",
       "3                         0.0            0.600000            2.300000   \n",
       "4                         0.0            0.600000            2.700000   \n",
       "...                       ...                 ...                 ...   \n",
       "1776                      5.4            0.000000            0.500000   \n",
       "1777                      0.0            0.000000            0.000000   \n",
       "1778                      0.0            0.000000            0.000000   \n",
       "1779                      0.0            0.732546            2.322147   \n",
       "1780                      0.0            0.732546            2.322147   \n",
       "\n",
       "      max_WindSpeedMax[m/s]  moy_WindDirection[deg]  \\\n",
       "0                  4.400000                   263.5   \n",
       "1                  5.300000                   263.5   \n",
       "2                  5.300000                   263.5   \n",
       "3                  6.600000                   263.5   \n",
       "4                  6.700000                   263.5   \n",
       "...                     ...                     ...   \n",
       "1776               5.263349                   263.5   \n",
       "1777               5.263349                   299.0   \n",
       "1778               5.263349                   228.0   \n",
       "1779               5.263349                   263.5   \n",
       "1780               5.263349                   263.5   \n",
       "\n",
       "      dernier_WindDirection[deg]  ETP quotidien [mm]  \n",
       "0                          263.5            3.022535  \n",
       "1                          263.5            5.000000  \n",
       "2                          263.5            5.300000  \n",
       "3                          263.5            5.300000  \n",
       "4                          263.5            5.500000  \n",
       "...                          ...                 ...  \n",
       "1776                       263.5            0.600000  \n",
       "1777                       299.0            3.022535  \n",
       "1778                       228.0            3.022535  \n",
       "1779                       263.5            3.022535  \n",
       "1780                       263.5            3.022535  \n",
       "\n",
       "[1781 rows x 19 columns]"
      ]
     },
     "execution_count": 7,
     "metadata": {},
     "output_type": "execute_result"
    }
   ],
   "source": [
    "df_mean"
   ]
  },
  {
   "cell_type": "code",
   "execution_count": 8,
   "id": "32158917",
   "metadata": {},
   "outputs": [
    {
     "data": {
      "text/html": [
       "<div>\n",
       "<style scoped>\n",
       "    .dataframe tbody tr th:only-of-type {\n",
       "        vertical-align: middle;\n",
       "    }\n",
       "\n",
       "    .dataframe tbody tr th {\n",
       "        vertical-align: top;\n",
       "    }\n",
       "\n",
       "    .dataframe thead th {\n",
       "        text-align: right;\n",
       "    }\n",
       "</style>\n",
       "<table border=\"1\" class=\"dataframe\">\n",
       "  <thead>\n",
       "    <tr style=\"text-align: right;\">\n",
       "      <th></th>\n",
       "      <th>Date/heure</th>\n",
       "      <th>moy_Temp[°C]</th>\n",
       "      <th>max_Temp[°C]</th>\n",
       "      <th>min_Temp[°C]</th>\n",
       "      <th>moy_DewPoint[°C]</th>\n",
       "      <th>min_DewPoint[°C]</th>\n",
       "      <th>moy_SolarRadiation[W/m2]</th>\n",
       "      <th>moy_VPD[kPa]</th>\n",
       "      <th>min_VPD[kPa]</th>\n",
       "      <th>moy_RelativeHumidity[%]</th>\n",
       "      <th>max_RelativeHumidity[%]</th>\n",
       "      <th>min_RelativeHumidity[%]</th>\n",
       "      <th>Somme_Precipitation[mm]</th>\n",
       "      <th>moy_WindSpeed[m/s]</th>\n",
       "      <th>max_WindSpeed[m/s]</th>\n",
       "      <th>max_WindSpeedMax[m/s]</th>\n",
       "      <th>moy_WindDirection[deg]</th>\n",
       "      <th>dernier_WindDirection[deg]</th>\n",
       "      <th>ETP quotidien [mm]</th>\n",
       "    </tr>\n",
       "  </thead>\n",
       "  <tbody>\n",
       "    <tr>\n",
       "      <th>0</th>\n",
       "      <td>05/08/2022 00:00</td>\n",
       "      <td>24.73</td>\n",
       "      <td>35.08</td>\n",
       "      <td>15.11</td>\n",
       "      <td>12.4</td>\n",
       "      <td>8.8</td>\n",
       "      <td>361</td>\n",
       "      <td>1.90</td>\n",
       "      <td>0.30</td>\n",
       "      <td>51.87</td>\n",
       "      <td>83.30</td>\n",
       "      <td>22.00</td>\n",
       "      <td>0.0</td>\n",
       "      <td>0.5</td>\n",
       "      <td>2.1</td>\n",
       "      <td>4.4</td>\n",
       "      <td>263.5</td>\n",
       "      <td>263.5</td>\n",
       "      <td>2.8</td>\n",
       "    </tr>\n",
       "    <tr>\n",
       "      <th>1</th>\n",
       "      <td>04/08/2022 00:00</td>\n",
       "      <td>25.26</td>\n",
       "      <td>35.79</td>\n",
       "      <td>16.40</td>\n",
       "      <td>14.6</td>\n",
       "      <td>8.0</td>\n",
       "      <td>288</td>\n",
       "      <td>1.73</td>\n",
       "      <td>0.00</td>\n",
       "      <td>59.06</td>\n",
       "      <td>99.54</td>\n",
       "      <td>19.84</td>\n",
       "      <td>0.0</td>\n",
       "      <td>0.6</td>\n",
       "      <td>1.7</td>\n",
       "      <td>5.3</td>\n",
       "      <td>263.5</td>\n",
       "      <td>263.5</td>\n",
       "      <td>5.0</td>\n",
       "    </tr>\n",
       "    <tr>\n",
       "      <th>2</th>\n",
       "      <td>03/08/2022 00:00</td>\n",
       "      <td>28.37</td>\n",
       "      <td>36.71</td>\n",
       "      <td>19.80</td>\n",
       "      <td>12.3</td>\n",
       "      <td>7.4</td>\n",
       "      <td>285</td>\n",
       "      <td>2.56</td>\n",
       "      <td>0.95</td>\n",
       "      <td>38.43</td>\n",
       "      <td>65.76</td>\n",
       "      <td>23.60</td>\n",
       "      <td>0.0</td>\n",
       "      <td>0.7</td>\n",
       "      <td>2.6</td>\n",
       "      <td>5.3</td>\n",
       "      <td>263.5</td>\n",
       "      <td>263.5</td>\n",
       "      <td>5.3</td>\n",
       "    </tr>\n",
       "    <tr>\n",
       "      <th>3</th>\n",
       "      <td>02/08/2022 00:00</td>\n",
       "      <td>32.17</td>\n",
       "      <td>43.43</td>\n",
       "      <td>19.68</td>\n",
       "      <td>0.9</td>\n",
       "      <td>-4.7</td>\n",
       "      <td>296</td>\n",
       "      <td>4.55</td>\n",
       "      <td>1.70</td>\n",
       "      <td>16.44</td>\n",
       "      <td>38.56</td>\n",
       "      <td>5.23</td>\n",
       "      <td>0.0</td>\n",
       "      <td>0.6</td>\n",
       "      <td>2.3</td>\n",
       "      <td>6.6</td>\n",
       "      <td>263.5</td>\n",
       "      <td>263.5</td>\n",
       "      <td>5.3</td>\n",
       "    </tr>\n",
       "    <tr>\n",
       "      <th>4</th>\n",
       "      <td>01/08/2022 00:00</td>\n",
       "      <td>32.30</td>\n",
       "      <td>41.90</td>\n",
       "      <td>21.26</td>\n",
       "      <td>8.7</td>\n",
       "      <td>1.5</td>\n",
       "      <td>290</td>\n",
       "      <td>3.97</td>\n",
       "      <td>1.39</td>\n",
       "      <td>26.68</td>\n",
       "      <td>47.56</td>\n",
       "      <td>9.52</td>\n",
       "      <td>0.0</td>\n",
       "      <td>0.6</td>\n",
       "      <td>2.7</td>\n",
       "      <td>6.7</td>\n",
       "      <td>263.5</td>\n",
       "      <td>263.5</td>\n",
       "      <td>5.5</td>\n",
       "    </tr>\n",
       "    <tr>\n",
       "      <th>...</th>\n",
       "      <td>...</td>\n",
       "      <td>...</td>\n",
       "      <td>...</td>\n",
       "      <td>...</td>\n",
       "      <td>...</td>\n",
       "      <td>...</td>\n",
       "      <td>...</td>\n",
       "      <td>...</td>\n",
       "      <td>...</td>\n",
       "      <td>...</td>\n",
       "      <td>...</td>\n",
       "      <td>...</td>\n",
       "      <td>...</td>\n",
       "      <td>...</td>\n",
       "      <td>...</td>\n",
       "      <td>...</td>\n",
       "      <td>...</td>\n",
       "      <td>...</td>\n",
       "      <td>...</td>\n",
       "    </tr>\n",
       "    <tr>\n",
       "      <th>1776</th>\n",
       "      <td>04/09/2017 00:00</td>\n",
       "      <td>26.19</td>\n",
       "      <td>27.22</td>\n",
       "      <td>25.43</td>\n",
       "      <td>19.0</td>\n",
       "      <td>17.9</td>\n",
       "      <td>0</td>\n",
       "      <td>1.18</td>\n",
       "      <td>1.04</td>\n",
       "      <td>65.12</td>\n",
       "      <td>68.01</td>\n",
       "      <td>57.11</td>\n",
       "      <td>5.4</td>\n",
       "      <td>0.0</td>\n",
       "      <td>0.5</td>\n",
       "      <td>4.9</td>\n",
       "      <td>263.5</td>\n",
       "      <td>263.5</td>\n",
       "      <td>0.6</td>\n",
       "    </tr>\n",
       "    <tr>\n",
       "      <th>1777</th>\n",
       "      <td>06/06/2017 00:00</td>\n",
       "      <td>26.21</td>\n",
       "      <td>26.42</td>\n",
       "      <td>25.51</td>\n",
       "      <td>17.4</td>\n",
       "      <td>17.2</td>\n",
       "      <td>0</td>\n",
       "      <td>1.40</td>\n",
       "      <td>1.28</td>\n",
       "      <td>58.50</td>\n",
       "      <td>60.93</td>\n",
       "      <td>57.18</td>\n",
       "      <td>0.0</td>\n",
       "      <td>0.0</td>\n",
       "      <td>0.0</td>\n",
       "      <td>4.9</td>\n",
       "      <td>299.0</td>\n",
       "      <td>299.0</td>\n",
       "      <td>2.8</td>\n",
       "    </tr>\n",
       "    <tr>\n",
       "      <th>1778</th>\n",
       "      <td>05/06/2017 00:00</td>\n",
       "      <td>26.31</td>\n",
       "      <td>26.47</td>\n",
       "      <td>26.10</td>\n",
       "      <td>16.0</td>\n",
       "      <td>15.3</td>\n",
       "      <td>0</td>\n",
       "      <td>1.58</td>\n",
       "      <td>1.48</td>\n",
       "      <td>53.43</td>\n",
       "      <td>56.89</td>\n",
       "      <td>51.64</td>\n",
       "      <td>0.0</td>\n",
       "      <td>0.0</td>\n",
       "      <td>0.0</td>\n",
       "      <td>4.9</td>\n",
       "      <td>228.0</td>\n",
       "      <td>228.0</td>\n",
       "      <td>2.8</td>\n",
       "    </tr>\n",
       "    <tr>\n",
       "      <th>1779</th>\n",
       "      <td>10/04/2017 00:00</td>\n",
       "      <td>23.58</td>\n",
       "      <td>23.92</td>\n",
       "      <td>22.89</td>\n",
       "      <td>14.9</td>\n",
       "      <td>14.1</td>\n",
       "      <td>2</td>\n",
       "      <td>1.20</td>\n",
       "      <td>1.13</td>\n",
       "      <td>58.56</td>\n",
       "      <td>61.86</td>\n",
       "      <td>56.71</td>\n",
       "      <td>0.0</td>\n",
       "      <td>0.7</td>\n",
       "      <td>2.2</td>\n",
       "      <td>4.9</td>\n",
       "      <td>263.5</td>\n",
       "      <td>263.5</td>\n",
       "      <td>2.8</td>\n",
       "    </tr>\n",
       "    <tr>\n",
       "      <th>1780</th>\n",
       "      <td>10/11/2016 00:00</td>\n",
       "      <td>21.87</td>\n",
       "      <td>22.60</td>\n",
       "      <td>20.94</td>\n",
       "      <td>3.8</td>\n",
       "      <td>3.4</td>\n",
       "      <td>93</td>\n",
       "      <td>1.81</td>\n",
       "      <td>1.66</td>\n",
       "      <td>30.93</td>\n",
       "      <td>32.73</td>\n",
       "      <td>29.15</td>\n",
       "      <td>0.0</td>\n",
       "      <td>0.7</td>\n",
       "      <td>2.2</td>\n",
       "      <td>4.9</td>\n",
       "      <td>263.5</td>\n",
       "      <td>263.5</td>\n",
       "      <td>2.8</td>\n",
       "    </tr>\n",
       "  </tbody>\n",
       "</table>\n",
       "<p>1781 rows × 19 columns</p>\n",
       "</div>"
      ],
      "text/plain": [
       "            Date/heure  moy_Temp[°C]  max_Temp[°C]  min_Temp[°C]  \\\n",
       "0     05/08/2022 00:00         24.73         35.08         15.11   \n",
       "1     04/08/2022 00:00         25.26         35.79         16.40   \n",
       "2     03/08/2022 00:00         28.37         36.71         19.80   \n",
       "3     02/08/2022 00:00         32.17         43.43         19.68   \n",
       "4     01/08/2022 00:00         32.30         41.90         21.26   \n",
       "...                ...           ...           ...           ...   \n",
       "1776  04/09/2017 00:00         26.19         27.22         25.43   \n",
       "1777  06/06/2017 00:00         26.21         26.42         25.51   \n",
       "1778  05/06/2017 00:00         26.31         26.47         26.10   \n",
       "1779  10/04/2017 00:00         23.58         23.92         22.89   \n",
       "1780  10/11/2016 00:00         21.87         22.60         20.94   \n",
       "\n",
       "      moy_DewPoint[°C]  min_DewPoint[°C]  moy_SolarRadiation[W/m2]  \\\n",
       "0                 12.4               8.8                       361   \n",
       "1                 14.6               8.0                       288   \n",
       "2                 12.3               7.4                       285   \n",
       "3                  0.9              -4.7                       296   \n",
       "4                  8.7               1.5                       290   \n",
       "...                ...               ...                       ...   \n",
       "1776              19.0              17.9                         0   \n",
       "1777              17.4              17.2                         0   \n",
       "1778              16.0              15.3                         0   \n",
       "1779              14.9              14.1                         2   \n",
       "1780               3.8               3.4                        93   \n",
       "\n",
       "      moy_VPD[kPa]  min_VPD[kPa]  moy_RelativeHumidity[%]  \\\n",
       "0             1.90          0.30                    51.87   \n",
       "1             1.73          0.00                    59.06   \n",
       "2             2.56          0.95                    38.43   \n",
       "3             4.55          1.70                    16.44   \n",
       "4             3.97          1.39                    26.68   \n",
       "...            ...           ...                      ...   \n",
       "1776          1.18          1.04                    65.12   \n",
       "1777          1.40          1.28                    58.50   \n",
       "1778          1.58          1.48                    53.43   \n",
       "1779          1.20          1.13                    58.56   \n",
       "1780          1.81          1.66                    30.93   \n",
       "\n",
       "      max_RelativeHumidity[%]  min_RelativeHumidity[%]  \\\n",
       "0                       83.30                    22.00   \n",
       "1                       99.54                    19.84   \n",
       "2                       65.76                    23.60   \n",
       "3                       38.56                     5.23   \n",
       "4                       47.56                     9.52   \n",
       "...                       ...                      ...   \n",
       "1776                    68.01                    57.11   \n",
       "1777                    60.93                    57.18   \n",
       "1778                    56.89                    51.64   \n",
       "1779                    61.86                    56.71   \n",
       "1780                    32.73                    29.15   \n",
       "\n",
       "      Somme_Precipitation[mm]  moy_WindSpeed[m/s]  max_WindSpeed[m/s]  \\\n",
       "0                         0.0                 0.5                 2.1   \n",
       "1                         0.0                 0.6                 1.7   \n",
       "2                         0.0                 0.7                 2.6   \n",
       "3                         0.0                 0.6                 2.3   \n",
       "4                         0.0                 0.6                 2.7   \n",
       "...                       ...                 ...                 ...   \n",
       "1776                      5.4                 0.0                 0.5   \n",
       "1777                      0.0                 0.0                 0.0   \n",
       "1778                      0.0                 0.0                 0.0   \n",
       "1779                      0.0                 0.7                 2.2   \n",
       "1780                      0.0                 0.7                 2.2   \n",
       "\n",
       "      max_WindSpeedMax[m/s]  moy_WindDirection[deg]  \\\n",
       "0                       4.4                   263.5   \n",
       "1                       5.3                   263.5   \n",
       "2                       5.3                   263.5   \n",
       "3                       6.6                   263.5   \n",
       "4                       6.7                   263.5   \n",
       "...                     ...                     ...   \n",
       "1776                    4.9                   263.5   \n",
       "1777                    4.9                   299.0   \n",
       "1778                    4.9                   228.0   \n",
       "1779                    4.9                   263.5   \n",
       "1780                    4.9                   263.5   \n",
       "\n",
       "      dernier_WindDirection[deg]  ETP quotidien [mm]  \n",
       "0                          263.5                 2.8  \n",
       "1                          263.5                 5.0  \n",
       "2                          263.5                 5.3  \n",
       "3                          263.5                 5.3  \n",
       "4                          263.5                 5.5  \n",
       "...                          ...                 ...  \n",
       "1776                       263.5                 0.6  \n",
       "1777                       299.0                 2.8  \n",
       "1778                       228.0                 2.8  \n",
       "1779                       263.5                 2.8  \n",
       "1780                       263.5                 2.8  \n",
       "\n",
       "[1781 rows x 19 columns]"
      ]
     },
     "execution_count": 8,
     "metadata": {},
     "output_type": "execute_result"
    }
   ],
   "source": [
    "df_median"
   ]
  },
  {
   "cell_type": "code",
   "execution_count": 9,
   "id": "afbdbf91",
   "metadata": {},
   "outputs": [
    {
     "data": {
      "text/plain": [
       "Date/heure                     object\n",
       "moy_Temp[°C]                  float64\n",
       "max_Temp[°C]                  float64\n",
       "min_Temp[°C]                  float64\n",
       "moy_DewPoint[°C]              float64\n",
       "min_DewPoint[°C]              float64\n",
       "moy_SolarRadiation[W/m2]        int64\n",
       "moy_VPD[kPa]                  float64\n",
       "min_VPD[kPa]                  float64\n",
       "moy_RelativeHumidity[%]       float64\n",
       "max_RelativeHumidity[%]       float64\n",
       "min_RelativeHumidity[%]       float64\n",
       "Somme_Precipitation[mm]       float64\n",
       "moy_WindSpeed[m/s]            float64\n",
       "max_WindSpeed[m/s]            float64\n",
       "max_WindSpeedMax[m/s]         float64\n",
       "moy_WindDirection[deg]        float64\n",
       "dernier_WindDirection[deg]    float64\n",
       "ETP quotidien [mm]            float64\n",
       "dtype: object"
      ]
     },
     "execution_count": 9,
     "metadata": {},
     "output_type": "execute_result"
    }
   ],
   "source": [
    "df.dtypes"
   ]
  },
  {
   "cell_type": "code",
   "execution_count": 10,
   "id": "9130b2d3",
   "metadata": {},
   "outputs": [],
   "source": [
    "df_mean=df_mean.drop('Date/heure',axis=1)"
   ]
  },
  {
   "cell_type": "code",
   "execution_count": 11,
   "id": "b1b8253a",
   "metadata": {},
   "outputs": [
    {
     "data": {
      "text/plain": [
       "moy_Temp[°C]                  float64\n",
       "max_Temp[°C]                  float64\n",
       "min_Temp[°C]                  float64\n",
       "moy_DewPoint[°C]              float64\n",
       "min_DewPoint[°C]              float64\n",
       "moy_SolarRadiation[W/m2]        int64\n",
       "moy_VPD[kPa]                  float64\n",
       "min_VPD[kPa]                  float64\n",
       "moy_RelativeHumidity[%]       float64\n",
       "max_RelativeHumidity[%]       float64\n",
       "min_RelativeHumidity[%]       float64\n",
       "Somme_Precipitation[mm]       float64\n",
       "moy_WindSpeed[m/s]            float64\n",
       "max_WindSpeed[m/s]            float64\n",
       "max_WindSpeedMax[m/s]         float64\n",
       "moy_WindDirection[deg]        float64\n",
       "dernier_WindDirection[deg]    float64\n",
       "ETP quotidien [mm]            float64\n",
       "dtype: object"
      ]
     },
     "execution_count": 11,
     "metadata": {},
     "output_type": "execute_result"
    }
   ],
   "source": [
    "df_mean.dtypes"
   ]
  },
  {
   "cell_type": "code",
   "execution_count": 12,
   "id": "53acfb46",
   "metadata": {},
   "outputs": [],
   "source": [
    "from sklearn.model_selection import train_test_split"
   ]
  },
  {
   "cell_type": "code",
   "execution_count": 13,
   "id": "7ba52041",
   "metadata": {},
   "outputs": [],
   "source": [
    "features_mean = df_mean.drop('ETP quotidien [mm]',axis=1)\n",
    "target_mean = df_mean['ETP quotidien [mm]']"
   ]
  },
  {
   "cell_type": "code",
   "execution_count": 14,
   "id": "6115d520",
   "metadata": {},
   "outputs": [
    {
     "data": {
      "text/html": [
       "<div>\n",
       "<style scoped>\n",
       "    .dataframe tbody tr th:only-of-type {\n",
       "        vertical-align: middle;\n",
       "    }\n",
       "\n",
       "    .dataframe tbody tr th {\n",
       "        vertical-align: top;\n",
       "    }\n",
       "\n",
       "    .dataframe thead th {\n",
       "        text-align: right;\n",
       "    }\n",
       "</style>\n",
       "<table border=\"1\" class=\"dataframe\">\n",
       "  <thead>\n",
       "    <tr style=\"text-align: right;\">\n",
       "      <th></th>\n",
       "      <th>moy_Temp[°C]</th>\n",
       "      <th>max_Temp[°C]</th>\n",
       "      <th>min_Temp[°C]</th>\n",
       "      <th>moy_DewPoint[°C]</th>\n",
       "      <th>min_DewPoint[°C]</th>\n",
       "      <th>moy_SolarRadiation[W/m2]</th>\n",
       "      <th>moy_VPD[kPa]</th>\n",
       "      <th>min_VPD[kPa]</th>\n",
       "      <th>moy_RelativeHumidity[%]</th>\n",
       "      <th>max_RelativeHumidity[%]</th>\n",
       "      <th>min_RelativeHumidity[%]</th>\n",
       "      <th>Somme_Precipitation[mm]</th>\n",
       "      <th>moy_WindSpeed[m/s]</th>\n",
       "      <th>max_WindSpeed[m/s]</th>\n",
       "      <th>max_WindSpeedMax[m/s]</th>\n",
       "      <th>moy_WindDirection[deg]</th>\n",
       "      <th>dernier_WindDirection[deg]</th>\n",
       "    </tr>\n",
       "  </thead>\n",
       "  <tbody>\n",
       "    <tr>\n",
       "      <th>0</th>\n",
       "      <td>24.73</td>\n",
       "      <td>35.08</td>\n",
       "      <td>15.11</td>\n",
       "      <td>12.4</td>\n",
       "      <td>8.8</td>\n",
       "      <td>361</td>\n",
       "      <td>1.90</td>\n",
       "      <td>0.30</td>\n",
       "      <td>51.87</td>\n",
       "      <td>83.30</td>\n",
       "      <td>22.00</td>\n",
       "      <td>0.0</td>\n",
       "      <td>0.500000</td>\n",
       "      <td>2.100000</td>\n",
       "      <td>4.400000</td>\n",
       "      <td>263.5</td>\n",
       "      <td>263.5</td>\n",
       "    </tr>\n",
       "    <tr>\n",
       "      <th>1</th>\n",
       "      <td>25.26</td>\n",
       "      <td>35.79</td>\n",
       "      <td>16.40</td>\n",
       "      <td>14.6</td>\n",
       "      <td>8.0</td>\n",
       "      <td>288</td>\n",
       "      <td>1.73</td>\n",
       "      <td>0.00</td>\n",
       "      <td>59.06</td>\n",
       "      <td>99.54</td>\n",
       "      <td>19.84</td>\n",
       "      <td>0.0</td>\n",
       "      <td>0.600000</td>\n",
       "      <td>1.700000</td>\n",
       "      <td>5.300000</td>\n",
       "      <td>263.5</td>\n",
       "      <td>263.5</td>\n",
       "    </tr>\n",
       "    <tr>\n",
       "      <th>2</th>\n",
       "      <td>28.37</td>\n",
       "      <td>36.71</td>\n",
       "      <td>19.80</td>\n",
       "      <td>12.3</td>\n",
       "      <td>7.4</td>\n",
       "      <td>285</td>\n",
       "      <td>2.56</td>\n",
       "      <td>0.95</td>\n",
       "      <td>38.43</td>\n",
       "      <td>65.76</td>\n",
       "      <td>23.60</td>\n",
       "      <td>0.0</td>\n",
       "      <td>0.700000</td>\n",
       "      <td>2.600000</td>\n",
       "      <td>5.300000</td>\n",
       "      <td>263.5</td>\n",
       "      <td>263.5</td>\n",
       "    </tr>\n",
       "    <tr>\n",
       "      <th>3</th>\n",
       "      <td>32.17</td>\n",
       "      <td>43.43</td>\n",
       "      <td>19.68</td>\n",
       "      <td>0.9</td>\n",
       "      <td>-4.7</td>\n",
       "      <td>296</td>\n",
       "      <td>4.55</td>\n",
       "      <td>1.70</td>\n",
       "      <td>16.44</td>\n",
       "      <td>38.56</td>\n",
       "      <td>5.23</td>\n",
       "      <td>0.0</td>\n",
       "      <td>0.600000</td>\n",
       "      <td>2.300000</td>\n",
       "      <td>6.600000</td>\n",
       "      <td>263.5</td>\n",
       "      <td>263.5</td>\n",
       "    </tr>\n",
       "    <tr>\n",
       "      <th>4</th>\n",
       "      <td>32.30</td>\n",
       "      <td>41.90</td>\n",
       "      <td>21.26</td>\n",
       "      <td>8.7</td>\n",
       "      <td>1.5</td>\n",
       "      <td>290</td>\n",
       "      <td>3.97</td>\n",
       "      <td>1.39</td>\n",
       "      <td>26.68</td>\n",
       "      <td>47.56</td>\n",
       "      <td>9.52</td>\n",
       "      <td>0.0</td>\n",
       "      <td>0.600000</td>\n",
       "      <td>2.700000</td>\n",
       "      <td>6.700000</td>\n",
       "      <td>263.5</td>\n",
       "      <td>263.5</td>\n",
       "    </tr>\n",
       "    <tr>\n",
       "      <th>...</th>\n",
       "      <td>...</td>\n",
       "      <td>...</td>\n",
       "      <td>...</td>\n",
       "      <td>...</td>\n",
       "      <td>...</td>\n",
       "      <td>...</td>\n",
       "      <td>...</td>\n",
       "      <td>...</td>\n",
       "      <td>...</td>\n",
       "      <td>...</td>\n",
       "      <td>...</td>\n",
       "      <td>...</td>\n",
       "      <td>...</td>\n",
       "      <td>...</td>\n",
       "      <td>...</td>\n",
       "      <td>...</td>\n",
       "      <td>...</td>\n",
       "    </tr>\n",
       "    <tr>\n",
       "      <th>1776</th>\n",
       "      <td>26.19</td>\n",
       "      <td>27.22</td>\n",
       "      <td>25.43</td>\n",
       "      <td>19.0</td>\n",
       "      <td>17.9</td>\n",
       "      <td>0</td>\n",
       "      <td>1.18</td>\n",
       "      <td>1.04</td>\n",
       "      <td>65.12</td>\n",
       "      <td>68.01</td>\n",
       "      <td>57.11</td>\n",
       "      <td>5.4</td>\n",
       "      <td>0.000000</td>\n",
       "      <td>0.500000</td>\n",
       "      <td>5.263349</td>\n",
       "      <td>263.5</td>\n",
       "      <td>263.5</td>\n",
       "    </tr>\n",
       "    <tr>\n",
       "      <th>1777</th>\n",
       "      <td>26.21</td>\n",
       "      <td>26.42</td>\n",
       "      <td>25.51</td>\n",
       "      <td>17.4</td>\n",
       "      <td>17.2</td>\n",
       "      <td>0</td>\n",
       "      <td>1.40</td>\n",
       "      <td>1.28</td>\n",
       "      <td>58.50</td>\n",
       "      <td>60.93</td>\n",
       "      <td>57.18</td>\n",
       "      <td>0.0</td>\n",
       "      <td>0.000000</td>\n",
       "      <td>0.000000</td>\n",
       "      <td>5.263349</td>\n",
       "      <td>299.0</td>\n",
       "      <td>299.0</td>\n",
       "    </tr>\n",
       "    <tr>\n",
       "      <th>1778</th>\n",
       "      <td>26.31</td>\n",
       "      <td>26.47</td>\n",
       "      <td>26.10</td>\n",
       "      <td>16.0</td>\n",
       "      <td>15.3</td>\n",
       "      <td>0</td>\n",
       "      <td>1.58</td>\n",
       "      <td>1.48</td>\n",
       "      <td>53.43</td>\n",
       "      <td>56.89</td>\n",
       "      <td>51.64</td>\n",
       "      <td>0.0</td>\n",
       "      <td>0.000000</td>\n",
       "      <td>0.000000</td>\n",
       "      <td>5.263349</td>\n",
       "      <td>228.0</td>\n",
       "      <td>228.0</td>\n",
       "    </tr>\n",
       "    <tr>\n",
       "      <th>1779</th>\n",
       "      <td>23.58</td>\n",
       "      <td>23.92</td>\n",
       "      <td>22.89</td>\n",
       "      <td>14.9</td>\n",
       "      <td>14.1</td>\n",
       "      <td>2</td>\n",
       "      <td>1.20</td>\n",
       "      <td>1.13</td>\n",
       "      <td>58.56</td>\n",
       "      <td>61.86</td>\n",
       "      <td>56.71</td>\n",
       "      <td>0.0</td>\n",
       "      <td>0.732546</td>\n",
       "      <td>2.322147</td>\n",
       "      <td>5.263349</td>\n",
       "      <td>263.5</td>\n",
       "      <td>263.5</td>\n",
       "    </tr>\n",
       "    <tr>\n",
       "      <th>1780</th>\n",
       "      <td>21.87</td>\n",
       "      <td>22.60</td>\n",
       "      <td>20.94</td>\n",
       "      <td>3.8</td>\n",
       "      <td>3.4</td>\n",
       "      <td>93</td>\n",
       "      <td>1.81</td>\n",
       "      <td>1.66</td>\n",
       "      <td>30.93</td>\n",
       "      <td>32.73</td>\n",
       "      <td>29.15</td>\n",
       "      <td>0.0</td>\n",
       "      <td>0.732546</td>\n",
       "      <td>2.322147</td>\n",
       "      <td>5.263349</td>\n",
       "      <td>263.5</td>\n",
       "      <td>263.5</td>\n",
       "    </tr>\n",
       "  </tbody>\n",
       "</table>\n",
       "<p>1781 rows × 17 columns</p>\n",
       "</div>"
      ],
      "text/plain": [
       "      moy_Temp[°C]  max_Temp[°C]  min_Temp[°C]  moy_DewPoint[°C]  \\\n",
       "0            24.73         35.08         15.11              12.4   \n",
       "1            25.26         35.79         16.40              14.6   \n",
       "2            28.37         36.71         19.80              12.3   \n",
       "3            32.17         43.43         19.68               0.9   \n",
       "4            32.30         41.90         21.26               8.7   \n",
       "...            ...           ...           ...               ...   \n",
       "1776         26.19         27.22         25.43              19.0   \n",
       "1777         26.21         26.42         25.51              17.4   \n",
       "1778         26.31         26.47         26.10              16.0   \n",
       "1779         23.58         23.92         22.89              14.9   \n",
       "1780         21.87         22.60         20.94               3.8   \n",
       "\n",
       "      min_DewPoint[°C]  moy_SolarRadiation[W/m2]  moy_VPD[kPa]  min_VPD[kPa]  \\\n",
       "0                  8.8                       361          1.90          0.30   \n",
       "1                  8.0                       288          1.73          0.00   \n",
       "2                  7.4                       285          2.56          0.95   \n",
       "3                 -4.7                       296          4.55          1.70   \n",
       "4                  1.5                       290          3.97          1.39   \n",
       "...                ...                       ...           ...           ...   \n",
       "1776              17.9                         0          1.18          1.04   \n",
       "1777              17.2                         0          1.40          1.28   \n",
       "1778              15.3                         0          1.58          1.48   \n",
       "1779              14.1                         2          1.20          1.13   \n",
       "1780               3.4                        93          1.81          1.66   \n",
       "\n",
       "      moy_RelativeHumidity[%]  max_RelativeHumidity[%]  \\\n",
       "0                       51.87                    83.30   \n",
       "1                       59.06                    99.54   \n",
       "2                       38.43                    65.76   \n",
       "3                       16.44                    38.56   \n",
       "4                       26.68                    47.56   \n",
       "...                       ...                      ...   \n",
       "1776                    65.12                    68.01   \n",
       "1777                    58.50                    60.93   \n",
       "1778                    53.43                    56.89   \n",
       "1779                    58.56                    61.86   \n",
       "1780                    30.93                    32.73   \n",
       "\n",
       "      min_RelativeHumidity[%]  Somme_Precipitation[mm]  moy_WindSpeed[m/s]  \\\n",
       "0                       22.00                      0.0            0.500000   \n",
       "1                       19.84                      0.0            0.600000   \n",
       "2                       23.60                      0.0            0.700000   \n",
       "3                        5.23                      0.0            0.600000   \n",
       "4                        9.52                      0.0            0.600000   \n",
       "...                       ...                      ...                 ...   \n",
       "1776                    57.11                      5.4            0.000000   \n",
       "1777                    57.18                      0.0            0.000000   \n",
       "1778                    51.64                      0.0            0.000000   \n",
       "1779                    56.71                      0.0            0.732546   \n",
       "1780                    29.15                      0.0            0.732546   \n",
       "\n",
       "      max_WindSpeed[m/s]  max_WindSpeedMax[m/s]  moy_WindDirection[deg]  \\\n",
       "0               2.100000               4.400000                   263.5   \n",
       "1               1.700000               5.300000                   263.5   \n",
       "2               2.600000               5.300000                   263.5   \n",
       "3               2.300000               6.600000                   263.5   \n",
       "4               2.700000               6.700000                   263.5   \n",
       "...                  ...                    ...                     ...   \n",
       "1776            0.500000               5.263349                   263.5   \n",
       "1777            0.000000               5.263349                   299.0   \n",
       "1778            0.000000               5.263349                   228.0   \n",
       "1779            2.322147               5.263349                   263.5   \n",
       "1780            2.322147               5.263349                   263.5   \n",
       "\n",
       "      dernier_WindDirection[deg]  \n",
       "0                          263.5  \n",
       "1                          263.5  \n",
       "2                          263.5  \n",
       "3                          263.5  \n",
       "4                          263.5  \n",
       "...                          ...  \n",
       "1776                       263.5  \n",
       "1777                       299.0  \n",
       "1778                       228.0  \n",
       "1779                       263.5  \n",
       "1780                       263.5  \n",
       "\n",
       "[1781 rows x 17 columns]"
      ]
     },
     "execution_count": 14,
     "metadata": {},
     "output_type": "execute_result"
    }
   ],
   "source": [
    "features_mean"
   ]
  },
  {
   "cell_type": "code",
   "execution_count": 15,
   "id": "4375da18",
   "metadata": {},
   "outputs": [
    {
     "data": {
      "text/plain": [
       "0       3.022535\n",
       "1       5.000000\n",
       "2       5.300000\n",
       "3       5.300000\n",
       "4       5.500000\n",
       "          ...   \n",
       "1776    0.600000\n",
       "1777    3.022535\n",
       "1778    3.022535\n",
       "1779    3.022535\n",
       "1780    3.022535\n",
       "Name: ETP quotidien [mm], Length: 1781, dtype: float64"
      ]
     },
     "execution_count": 15,
     "metadata": {},
     "output_type": "execute_result"
    }
   ],
   "source": [
    "target_mean"
   ]
  },
  {
   "cell_type": "code",
   "execution_count": 16,
   "id": "7cb5c03e",
   "metadata": {},
   "outputs": [],
   "source": [
    "x = features_mean\n",
    "y = target_mean\n",
    "\n",
    "from sklearn import preprocessing\n",
    "lab = preprocessing.LabelEncoder()\n",
    "y_transformed = lab.fit_transform(y)\n",
    "\n",
    "x_train,x_test,y_train,y_test = train_test_split(x, y_transformed, test_size=0.2)"
   ]
  },
  {
   "cell_type": "code",
   "execution_count": 17,
   "id": "ab52183d",
   "metadata": {},
   "outputs": [],
   "source": [
    "from sklearn.ensemble import RandomForestRegressor"
   ]
  },
  {
   "cell_type": "code",
   "execution_count": 18,
   "id": "361c56b4",
   "metadata": {},
   "outputs": [],
   "source": [
    "rand_forest_model = RandomForestRegressor(n_estimators=100, max_features=\"auto\", random_state=42)"
   ]
  },
  {
   "cell_type": "code",
   "execution_count": 19,
   "id": "85bf160c",
   "metadata": {},
   "outputs": [
    {
     "data": {
      "text/plain": [
       "RandomForestRegressor(random_state=42)"
      ]
     },
     "execution_count": 19,
     "metadata": {},
     "output_type": "execute_result"
    }
   ],
   "source": [
    "rand_forest_model.fit(x_train,y_train)"
   ]
  },
  {
   "cell_type": "code",
   "execution_count": 20,
   "id": "06966625",
   "metadata": {},
   "outputs": [
    {
     "data": {
      "text/plain": [
       "array([32.1 , 47.49, 21.43, 15.4 , 32.35, 41.65, 40.48,  7.97, 10.63,\n",
       "       33.33,  7.56, 23.85, 25.75, 23.12, 22.96,  6.54, 17.41, 44.34,\n",
       "       45.64, 12.27,  5.56, 26.4 , 28.33, 38.03,  2.78, 46.36, 33.01,\n",
       "       35.42, 45.43, 53.64, 48.47, 43.38, 10.68, 20.49, 32.05, 31.31,\n",
       "       25.32, 14.74, 39.79, 29.2 , 12.65, 53.56,  6.36,  9.28, 44.03,\n",
       "        4.31,  5.95, 28.83, 17.97,  5.23, 40.65, 16.2 ,  6.07, 22.16,\n",
       "        7.73, 43.51,  7.28, 43.36, 21.69,  4.86, 29.18, 35.29, 35.14,\n",
       "       20.54, 42.41, 16.13, 44.27,  3.75, 43.64, 46.86,  6.38, 45.6 ,\n",
       "       48.98, 16.5 ,  6.3 , 52.33, 19.77, 50.05,  7.4 , 49.88,  4.47,\n",
       "       36.99,  5.99, 33.1 , 13.69,  5.78, 54.11, 42.5 , 48.3 ,  8.16,\n",
       "       11.03, 44.03, 30.09,  5.49,  6.06,  8.85, 38.69, 33.93,  6.03,\n",
       "       44.13,  6.33,  7.71, 43.91, 38.46, 39.6 ,  5.62, 56.11,  8.91,\n",
       "       52.38, 37.72,  9.29,  6.67,  6.2 ,  8.51, 19.28, 41.22, 44.5 ,\n",
       "       52.94, 22.37, 39.39, 45.39,  3.45, 33.52, 55.3 , 30.71, 42.82,\n",
       "       11.14, 35.16,  4.84,  8.58, 17.75, 24.75, 24.94, 29.58, 46.6 ,\n",
       "       25.42, 14.75,  8.26, 39.43, 12.43, 17.47, 33.64, 50.56,  5.06,\n",
       "       54.25, 36.9 , 17.29, 52.07, 45.14,  5.42,  4.39, 26.95,  8.7 ,\n",
       "       10.18,  9.05, 14.23, 20.39, 34.09, 35.88,  6.85,  7.16, 26.35,\n",
       "       47.79,  7.52, 24.28,  7.2 , 12.72, 32.16, 44.06,  6.44, 18.07,\n",
       "       50.38,  5.1 , 35.11, 11.19, 43.44, 26.13,  8.62, 21.27, 52.31,\n",
       "       10.25, 44.34,  6.17, 33.04, 34.91, 12.18,  6.07,  9.98, 18.5 ,\n",
       "       29.3 , 17.21, 19.56, 26.99,  6.01,  9.27, 10.4 , 35.19, 41.93,\n",
       "       10.07,  8.68, 37.88, 37.43, 26.5 , 13.58,  9.6 , 21.14, 47.07,\n",
       "        8.42, 45.61,  1.68, 37.07, 15.23, 34.23, 15.68, 49.11, 11.36,\n",
       "       46.  , 46.77,  1.89, 20.69,  4.43,  4.43, 43.79, 38.6 , 18.95,\n",
       "       45.01, 43.95, 45.55,  6.71, 15.59,  5.23, 45.49, 41.55, 41.31,\n",
       "       31.96, 42.22, 49.26, 56.8 , 44.74, 18.6 , 37.72, 43.44, 18.61,\n",
       "        1.34, 23.38, 39.7 , 48.07, 52.92, 23.19,  4.96, 41.57, 38.52,\n",
       "       22.79, 45.2 , 53.84, 52.11, 10.3 , 23.12, 48.51, 22.94,  6.85,\n",
       "        5.72, 20.69, 54.72,  5.31, 22.77,  7.18, 51.95, 45.56, 12.14,\n",
       "       35.59, 49.83,  5.26,  9.15, 44.3 , 41.59, 46.94, 37.77, 17.93,\n",
       "       21.34, 51.73,  5.89, 49.79, 31.9 , 15.66, 13.81, 31.19, 43.87,\n",
       "       14.55, 14.21, 54.14,  5.1 ,  3.3 , 34.99, 10.99, 58.27, 17.38,\n",
       "        7.2 , 17.79, 11.18, 29.14, 15.16,  6.02,  5.28, 12.71, 17.98,\n",
       "       53.82,  2.56, 47.42, 16.22, 37.77, 21.14, 56.69,  5.53, 25.41,\n",
       "       19.58,  4.73, 47.92, 21.16, 42.02,  5.97,  4.95, 40.53, 13.36,\n",
       "       36.07,  3.01, 39.62, 44.97, 38.75, 10.32, 51.6 ,  9.22, 47.43,\n",
       "       50.81,  2.94, 54.24, 53.35,  7.38, 42.23, 32.79, 21.04, 36.18,\n",
       "       35.86, 47.95, 29.86, 15.52, 14.07, 17.79, 16.14,  2.49, 50.75,\n",
       "        6.87, 49.49, 12.76, 32.05,  5.69, 47.31])"
      ]
     },
     "execution_count": 20,
     "metadata": {},
     "output_type": "execute_result"
    }
   ],
   "source": [
    "predictions = rand_forest_model.predict(x_test)\n",
    "predictions\n"
   ]
  },
  {
   "cell_type": "code",
   "execution_count": 21,
   "id": "8ce2130c",
   "metadata": {},
   "outputs": [
    {
     "data": {
      "text/plain": [
       "0.96649564871026"
      ]
     },
     "execution_count": 21,
     "metadata": {},
     "output_type": "execute_result"
    }
   ],
   "source": [
    "rand_forest_model.score(x_test,y_test)"
   ]
  },
  {
   "cell_type": "code",
   "execution_count": 22,
   "id": "da81b501",
   "metadata": {},
   "outputs": [],
   "source": [
    "from sklearn import tree\n",
    "dtc_model = tree.DecisionTreeRegressor(max_depth=1100,random_state=42)"
   ]
  },
  {
   "cell_type": "code",
   "execution_count": 23,
   "id": "5d6acb0f",
   "metadata": {},
   "outputs": [
    {
     "data": {
      "text/plain": [
       "DecisionTreeRegressor(max_depth=1100, random_state=42)"
      ]
     },
     "execution_count": 23,
     "metadata": {},
     "output_type": "execute_result"
    }
   ],
   "source": [
    "dtc_model.fit(x_train,y_train)"
   ]
  },
  {
   "cell_type": "code",
   "execution_count": 141,
   "id": "7a9cc72b",
   "metadata": {},
   "outputs": [
    {
     "data": {
      "text/html": [
       "<div>\n",
       "<style scoped>\n",
       "    .dataframe tbody tr th:only-of-type {\n",
       "        vertical-align: middle;\n",
       "    }\n",
       "\n",
       "    .dataframe tbody tr th {\n",
       "        vertical-align: top;\n",
       "    }\n",
       "\n",
       "    .dataframe thead th {\n",
       "        text-align: right;\n",
       "    }\n",
       "</style>\n",
       "<table border=\"1\" class=\"dataframe\">\n",
       "  <thead>\n",
       "    <tr style=\"text-align: right;\">\n",
       "      <th></th>\n",
       "      <th>moy_Temp[°C]</th>\n",
       "      <th>max_Temp[°C]</th>\n",
       "      <th>min_Temp[°C]</th>\n",
       "      <th>moy_DewPoint[°C]</th>\n",
       "      <th>min_DewPoint[°C]</th>\n",
       "      <th>moy_SolarRadiation[W/m2]</th>\n",
       "      <th>moy_VPD[kPa]</th>\n",
       "      <th>min_VPD[kPa]</th>\n",
       "      <th>moy_RelativeHumidity[%]</th>\n",
       "      <th>max_RelativeHumidity[%]</th>\n",
       "      <th>min_RelativeHumidity[%]</th>\n",
       "      <th>Somme_Precipitation[mm]</th>\n",
       "      <th>moy_WindSpeed[m/s]</th>\n",
       "      <th>max_WindSpeed[m/s]</th>\n",
       "      <th>max_WindSpeedMax[m/s]</th>\n",
       "      <th>moy_WindDirection[deg]</th>\n",
       "      <th>dernier_WindDirection[deg]</th>\n",
       "    </tr>\n",
       "  </thead>\n",
       "  <tbody>\n",
       "    <tr>\n",
       "      <th>1754</th>\n",
       "      <td>22.18</td>\n",
       "      <td>30.46</td>\n",
       "      <td>14.68</td>\n",
       "      <td>14.2</td>\n",
       "      <td>12.4</td>\n",
       "      <td>219</td>\n",
       "      <td>1.16</td>\n",
       "      <td>0.11</td>\n",
       "      <td>64.31</td>\n",
       "      <td>93.17</td>\n",
       "      <td>34.84</td>\n",
       "      <td>0.0</td>\n",
       "      <td>0.8</td>\n",
       "      <td>2.6</td>\n",
       "      <td>5.263349</td>\n",
       "      <td>263.5</td>\n",
       "      <td>263.5</td>\n",
       "    </tr>\n",
       "    <tr>\n",
       "      <th>1123</th>\n",
       "      <td>21.52</td>\n",
       "      <td>30.99</td>\n",
       "      <td>11.73</td>\n",
       "      <td>11.5</td>\n",
       "      <td>10.0</td>\n",
       "      <td>313</td>\n",
       "      <td>1.36</td>\n",
       "      <td>0.11</td>\n",
       "      <td>57.70</td>\n",
       "      <td>92.00</td>\n",
       "      <td>32.52</td>\n",
       "      <td>0.0</td>\n",
       "      <td>0.8</td>\n",
       "      <td>2.3</td>\n",
       "      <td>4.700000</td>\n",
       "      <td>263.5</td>\n",
       "      <td>263.5</td>\n",
       "    </tr>\n",
       "    <tr>\n",
       "      <th>856</th>\n",
       "      <td>15.82</td>\n",
       "      <td>23.02</td>\n",
       "      <td>11.10</td>\n",
       "      <td>11.6</td>\n",
       "      <td>6.8</td>\n",
       "      <td>171</td>\n",
       "      <td>0.45</td>\n",
       "      <td>0.00</td>\n",
       "      <td>78.61</td>\n",
       "      <td>99.33</td>\n",
       "      <td>44.65</td>\n",
       "      <td>0.0</td>\n",
       "      <td>0.8</td>\n",
       "      <td>2.5</td>\n",
       "      <td>5.300000</td>\n",
       "      <td>263.5</td>\n",
       "      <td>263.5</td>\n",
       "    </tr>\n",
       "    <tr>\n",
       "      <th>621</th>\n",
       "      <td>15.65</td>\n",
       "      <td>23.54</td>\n",
       "      <td>11.85</td>\n",
       "      <td>12.9</td>\n",
       "      <td>10.4</td>\n",
       "      <td>121</td>\n",
       "      <td>0.30</td>\n",
       "      <td>0.00</td>\n",
       "      <td>86.16</td>\n",
       "      <td>99.37</td>\n",
       "      <td>47.59</td>\n",
       "      <td>0.0</td>\n",
       "      <td>0.8</td>\n",
       "      <td>3.9</td>\n",
       "      <td>6.900000</td>\n",
       "      <td>263.5</td>\n",
       "      <td>263.5</td>\n",
       "    </tr>\n",
       "    <tr>\n",
       "      <th>770</th>\n",
       "      <td>17.81</td>\n",
       "      <td>25.72</td>\n",
       "      <td>11.04</td>\n",
       "      <td>11.1</td>\n",
       "      <td>6.8</td>\n",
       "      <td>238</td>\n",
       "      <td>0.77</td>\n",
       "      <td>0.01</td>\n",
       "      <td>68.83</td>\n",
       "      <td>99.25</td>\n",
       "      <td>30.76</td>\n",
       "      <td>0.0</td>\n",
       "      <td>0.8</td>\n",
       "      <td>2.3</td>\n",
       "      <td>4.700000</td>\n",
       "      <td>263.5</td>\n",
       "      <td>263.5</td>\n",
       "    </tr>\n",
       "    <tr>\n",
       "      <th>...</th>\n",
       "      <td>...</td>\n",
       "      <td>...</td>\n",
       "      <td>...</td>\n",
       "      <td>...</td>\n",
       "      <td>...</td>\n",
       "      <td>...</td>\n",
       "      <td>...</td>\n",
       "      <td>...</td>\n",
       "      <td>...</td>\n",
       "      <td>...</td>\n",
       "      <td>...</td>\n",
       "      <td>...</td>\n",
       "      <td>...</td>\n",
       "      <td>...</td>\n",
       "      <td>...</td>\n",
       "      <td>...</td>\n",
       "      <td>...</td>\n",
       "    </tr>\n",
       "    <tr>\n",
       "      <th>71</th>\n",
       "      <td>21.96</td>\n",
       "      <td>32.86</td>\n",
       "      <td>11.37</td>\n",
       "      <td>5.9</td>\n",
       "      <td>2.3</td>\n",
       "      <td>302</td>\n",
       "      <td>1.94</td>\n",
       "      <td>0.12</td>\n",
       "      <td>43.02</td>\n",
       "      <td>90.63</td>\n",
       "      <td>15.59</td>\n",
       "      <td>0.0</td>\n",
       "      <td>0.9</td>\n",
       "      <td>2.9</td>\n",
       "      <td>6.600000</td>\n",
       "      <td>263.5</td>\n",
       "      <td>263.5</td>\n",
       "    </tr>\n",
       "    <tr>\n",
       "      <th>305</th>\n",
       "      <td>17.41</td>\n",
       "      <td>24.86</td>\n",
       "      <td>11.45</td>\n",
       "      <td>10.8</td>\n",
       "      <td>-0.1</td>\n",
       "      <td>142</td>\n",
       "      <td>0.69</td>\n",
       "      <td>0.01</td>\n",
       "      <td>70.77</td>\n",
       "      <td>99.23</td>\n",
       "      <td>28.24</td>\n",
       "      <td>0.0</td>\n",
       "      <td>0.4</td>\n",
       "      <td>1.5</td>\n",
       "      <td>3.300000</td>\n",
       "      <td>263.5</td>\n",
       "      <td>263.5</td>\n",
       "    </tr>\n",
       "    <tr>\n",
       "      <th>1523</th>\n",
       "      <td>18.19</td>\n",
       "      <td>25.64</td>\n",
       "      <td>12.72</td>\n",
       "      <td>13.7</td>\n",
       "      <td>11.1</td>\n",
       "      <td>240</td>\n",
       "      <td>0.56</td>\n",
       "      <td>0.01</td>\n",
       "      <td>78.47</td>\n",
       "      <td>99.23</td>\n",
       "      <td>46.08</td>\n",
       "      <td>1.4</td>\n",
       "      <td>0.6</td>\n",
       "      <td>1.8</td>\n",
       "      <td>4.000000</td>\n",
       "      <td>263.5</td>\n",
       "      <td>263.5</td>\n",
       "    </tr>\n",
       "    <tr>\n",
       "      <th>1689</th>\n",
       "      <td>5.97</td>\n",
       "      <td>13.81</td>\n",
       "      <td>-0.41</td>\n",
       "      <td>2.7</td>\n",
       "      <td>-0.5</td>\n",
       "      <td>134</td>\n",
       "      <td>0.22</td>\n",
       "      <td>0.00</td>\n",
       "      <td>82.49</td>\n",
       "      <td>99.20</td>\n",
       "      <td>50.42</td>\n",
       "      <td>0.0</td>\n",
       "      <td>0.6</td>\n",
       "      <td>2.3</td>\n",
       "      <td>5.263349</td>\n",
       "      <td>263.5</td>\n",
       "      <td>263.5</td>\n",
       "    </tr>\n",
       "    <tr>\n",
       "      <th>372</th>\n",
       "      <td>29.27</td>\n",
       "      <td>38.83</td>\n",
       "      <td>18.32</td>\n",
       "      <td>13.9</td>\n",
       "      <td>3.7</td>\n",
       "      <td>250</td>\n",
       "      <td>2.73</td>\n",
       "      <td>0.37</td>\n",
       "      <td>46.00</td>\n",
       "      <td>82.23</td>\n",
       "      <td>13.44</td>\n",
       "      <td>0.0</td>\n",
       "      <td>0.7</td>\n",
       "      <td>4.7</td>\n",
       "      <td>9.400000</td>\n",
       "      <td>263.5</td>\n",
       "      <td>263.5</td>\n",
       "    </tr>\n",
       "  </tbody>\n",
       "</table>\n",
       "<p>357 rows × 17 columns</p>\n",
       "</div>"
      ],
      "text/plain": [
       "      moy_Temp[°C]  max_Temp[°C]  min_Temp[°C]  moy_DewPoint[°C]  \\\n",
       "1754         22.18         30.46         14.68              14.2   \n",
       "1123         21.52         30.99         11.73              11.5   \n",
       "856          15.82         23.02         11.10              11.6   \n",
       "621          15.65         23.54         11.85              12.9   \n",
       "770          17.81         25.72         11.04              11.1   \n",
       "...            ...           ...           ...               ...   \n",
       "71           21.96         32.86         11.37               5.9   \n",
       "305          17.41         24.86         11.45              10.8   \n",
       "1523         18.19         25.64         12.72              13.7   \n",
       "1689          5.97         13.81         -0.41               2.7   \n",
       "372          29.27         38.83         18.32              13.9   \n",
       "\n",
       "      min_DewPoint[°C]  moy_SolarRadiation[W/m2]  moy_VPD[kPa]  min_VPD[kPa]  \\\n",
       "1754              12.4                       219          1.16          0.11   \n",
       "1123              10.0                       313          1.36          0.11   \n",
       "856                6.8                       171          0.45          0.00   \n",
       "621               10.4                       121          0.30          0.00   \n",
       "770                6.8                       238          0.77          0.01   \n",
       "...                ...                       ...           ...           ...   \n",
       "71                 2.3                       302          1.94          0.12   \n",
       "305               -0.1                       142          0.69          0.01   \n",
       "1523              11.1                       240          0.56          0.01   \n",
       "1689              -0.5                       134          0.22          0.00   \n",
       "372                3.7                       250          2.73          0.37   \n",
       "\n",
       "      moy_RelativeHumidity[%]  max_RelativeHumidity[%]  \\\n",
       "1754                    64.31                    93.17   \n",
       "1123                    57.70                    92.00   \n",
       "856                     78.61                    99.33   \n",
       "621                     86.16                    99.37   \n",
       "770                     68.83                    99.25   \n",
       "...                       ...                      ...   \n",
       "71                      43.02                    90.63   \n",
       "305                     70.77                    99.23   \n",
       "1523                    78.47                    99.23   \n",
       "1689                    82.49                    99.20   \n",
       "372                     46.00                    82.23   \n",
       "\n",
       "      min_RelativeHumidity[%]  Somme_Precipitation[mm]  moy_WindSpeed[m/s]  \\\n",
       "1754                    34.84                      0.0                 0.8   \n",
       "1123                    32.52                      0.0                 0.8   \n",
       "856                     44.65                      0.0                 0.8   \n",
       "621                     47.59                      0.0                 0.8   \n",
       "770                     30.76                      0.0                 0.8   \n",
       "...                       ...                      ...                 ...   \n",
       "71                      15.59                      0.0                 0.9   \n",
       "305                     28.24                      0.0                 0.4   \n",
       "1523                    46.08                      1.4                 0.6   \n",
       "1689                    50.42                      0.0                 0.6   \n",
       "372                     13.44                      0.0                 0.7   \n",
       "\n",
       "      max_WindSpeed[m/s]  max_WindSpeedMax[m/s]  moy_WindDirection[deg]  \\\n",
       "1754                 2.6               5.263349                   263.5   \n",
       "1123                 2.3               4.700000                   263.5   \n",
       "856                  2.5               5.300000                   263.5   \n",
       "621                  3.9               6.900000                   263.5   \n",
       "770                  2.3               4.700000                   263.5   \n",
       "...                  ...                    ...                     ...   \n",
       "71                   2.9               6.600000                   263.5   \n",
       "305                  1.5               3.300000                   263.5   \n",
       "1523                 1.8               4.000000                   263.5   \n",
       "1689                 2.3               5.263349                   263.5   \n",
       "372                  4.7               9.400000                   263.5   \n",
       "\n",
       "      dernier_WindDirection[deg]  \n",
       "1754                       263.5  \n",
       "1123                       263.5  \n",
       "856                        263.5  \n",
       "621                        263.5  \n",
       "770                        263.5  \n",
       "...                          ...  \n",
       "71                         263.5  \n",
       "305                        263.5  \n",
       "1523                       263.5  \n",
       "1689                       263.5  \n",
       "372                        263.5  \n",
       "\n",
       "[357 rows x 17 columns]"
      ]
     },
     "execution_count": 141,
     "metadata": {},
     "output_type": "execute_result"
    }
   ],
   "source": [
    "predictions_dtc = dtc_model.predict(x_test)\n",
    "x_test"
   ]
  },
  {
   "cell_type": "code",
   "execution_count": 25,
   "id": "10648c2b",
   "metadata": {},
   "outputs": [
    {
     "data": {
      "text/plain": [
       "array([32., 49., 18., 17., 32., 43., 41.,  8., 17., 36.,  6., 27., 24.,\n",
       "       25., 19.,  6., 17., 40., 46., 12.,  5., 28., 29., 37.,  4., 45.,\n",
       "       34., 34., 46., 52., 47., 46., 11., 20., 32., 21., 24., 17., 41.,\n",
       "       30., 15., 51.,  7., 13., 43.,  3.,  8., 28., 13.,  5., 40., 18.,\n",
       "        5., 23.,  7., 43.,  9., 42., 22.,  1., 28., 33., 35., 20., 42.,\n",
       "       17., 44.,  4., 41., 40.,  6., 44., 50., 10.,  5., 51., 19., 50.,\n",
       "       10., 62.,  4., 38.,  5., 35., 14.,  5., 54., 43., 47.,  9., 11.,\n",
       "       45., 31.,  5.,  5.,  6., 37., 28.,  6., 43.,  6.,  6., 45., 42.,\n",
       "       40.,  5., 54.,  8., 51., 32., 10.,  6.,  5.,  5., 17., 46., 44.,\n",
       "       51., 24., 33., 44.,  4., 37., 51., 28., 37., 11., 34.,  3., 11.,\n",
       "       16., 22., 30., 30., 47., 25., 18.,  9., 40., 15., 17., 33., 50.,\n",
       "        5., 57., 38., 20., 49., 40.,  6.,  3., 31., 11., 17.,  8., 10.,\n",
       "       21., 34., 36.,  7.,  8., 34., 47.,  6., 28., 11., 14., 32., 44.,\n",
       "       26., 15., 50.,  3., 32., 11., 40., 25.,  9., 24., 54.,  9., 40.,\n",
       "        7., 37., 35., 11.,  5., 12., 22., 29., 13., 14., 22.,  6., 26.,\n",
       "        0., 37., 42., 11., 10., 41., 37., 24., 17.,  7., 23., 44.,  7.,\n",
       "       45.,  1., 37., 14., 34., 14., 60., 10., 44., 49.,  2., 21.,  4.,\n",
       "        1., 43., 37., 17., 46., 45., 49., 10., 15.,  5., 47., 42., 41.,\n",
       "       37., 42., 44., 60., 45., 18., 38., 41., 17.,  1., 21., 40., 47.,\n",
       "       53., 21.,  5., 42., 42., 23., 48., 54., 51., 10., 27., 48., 22.,\n",
       "        6.,  3., 16., 53.,  5., 21.,  6., 52., 46., 11., 33., 49.,  6.,\n",
       "       11., 44., 40., 48., 38., 18., 20., 53.,  5., 52., 32., 15., 12.,\n",
       "       32., 45., 17., 25., 58., 26.,  3., 35., 12., 55., 18., 11., 18.,\n",
       "       11., 31., 14.,  6.,  6.,  8., 16., 54.,  4., 47., 15., 38., 21.,\n",
       "       62.,  5., 24., 15.,  4., 50., 35., 41.,  6.,  3., 41., 12., 39.,\n",
       "        1., 32., 46., 43.,  7., 51.,  9., 47., 51.,  2., 55., 53., 10.,\n",
       "       43., 30., 18., 33., 37., 47., 29., 19., 13., 17., 17.,  3., 49.,\n",
       "        6., 51., 13., 32.,  6., 43.])"
      ]
     },
     "execution_count": 25,
     "metadata": {},
     "output_type": "execute_result"
    }
   ],
   "source": [
    "predictions_dtc"
   ]
  },
  {
   "cell_type": "code",
   "execution_count": 26,
   "id": "8a5f5e88",
   "metadata": {},
   "outputs": [
    {
     "data": {
      "text/plain": [
       "0.9528132196754376"
      ]
     },
     "execution_count": 26,
     "metadata": {},
     "output_type": "execute_result"
    }
   ],
   "source": [
    "dtc_model.score(x_test,y_test)"
   ]
  },
  {
   "cell_type": "code",
   "execution_count": 27,
   "id": "5403f21f",
   "metadata": {},
   "outputs": [
    {
     "data": {
      "text/plain": [
       "SVR()"
      ]
     },
     "execution_count": 27,
     "metadata": {},
     "output_type": "execute_result"
    }
   ],
   "source": [
    "from sklearn.svm import SVR\n",
    "svr_model = SVR()\n",
    "svr_model.fit(x_train,y_train)"
   ]
  },
  {
   "cell_type": "code",
   "execution_count": 28,
   "id": "4f4785e1",
   "metadata": {},
   "outputs": [],
   "source": [
    "predictions_svr = svr_model.predict(x_test)"
   ]
  },
  {
   "cell_type": "code",
   "execution_count": 29,
   "id": "0485f833",
   "metadata": {},
   "outputs": [
    {
     "data": {
      "text/plain": [
       "0.9045795887102115"
      ]
     },
     "execution_count": 29,
     "metadata": {},
     "output_type": "execute_result"
    }
   ],
   "source": [
    "svr_model.score(x_test,y_test)"
   ]
  },
  {
   "cell_type": "code",
   "execution_count": 30,
   "id": "d5b633cc",
   "metadata": {},
   "outputs": [],
   "source": [
    "from sklearn.neighbors import KNeighborsRegressor\n",
    "knn_model = KNeighborsRegressor(n_neighbors=3)"
   ]
  },
  {
   "cell_type": "code",
   "execution_count": 31,
   "id": "aff7e952",
   "metadata": {},
   "outputs": [
    {
     "data": {
      "text/plain": [
       "KNeighborsRegressor(n_neighbors=3)"
      ]
     },
     "execution_count": 31,
     "metadata": {},
     "output_type": "execute_result"
    }
   ],
   "source": [
    "knn_model.fit(x_train,y_train)"
   ]
  },
  {
   "cell_type": "code",
   "execution_count": 32,
   "id": "7b4637fe",
   "metadata": {},
   "outputs": [],
   "source": [
    "predictions_knn = knn_model.predict(x_test)"
   ]
  },
  {
   "cell_type": "code",
   "execution_count": 33,
   "id": "f7310036",
   "metadata": {},
   "outputs": [
    {
     "data": {
      "text/plain": [
       "array([29.33333333, 47.33333333, 23.33333333, 11.        , 27.66666667,\n",
       "       42.        , 44.33333333,  7.33333333, 11.        , 37.        ,\n",
       "       10.66666667, 30.33333333, 28.66666667, 26.        , 23.33333333,\n",
       "        7.        , 15.33333333, 39.33333333, 46.33333333, 12.        ,\n",
       "        5.        , 28.33333333, 27.33333333, 36.66666667,  3.66666667,\n",
       "       45.66666667, 38.        , 32.33333333, 46.33333333, 52.66666667,\n",
       "       49.33333333, 42.66666667, 10.33333333, 20.        , 28.        ,\n",
       "       34.        , 37.66666667, 11.        , 42.        , 28.33333333,\n",
       "       12.        , 53.        ,  6.33333333, 10.33333333, 43.        ,\n",
       "        7.33333333,  6.        , 31.33333333, 15.        ,  5.        ,\n",
       "       40.33333333, 18.        ,  5.66666667, 25.        ,  6.66666667,\n",
       "       42.66666667,  6.        , 43.66666667, 26.        ,  4.        ,\n",
       "       30.        , 33.        , 32.66666667, 22.        , 43.66666667,\n",
       "       14.        , 45.66666667,  3.33333333, 45.        , 44.33333333,\n",
       "        7.66666667, 46.        , 52.        , 10.        ,  7.        ,\n",
       "       48.        , 20.        , 54.33333333,  6.66666667, 47.33333333,\n",
       "        4.        , 37.66666667,  7.33333333, 24.33333333, 17.66666667,\n",
       "        5.        , 54.        , 42.66666667, 48.        ,  8.33333333,\n",
       "       14.33333333, 46.66666667, 30.33333333,  6.33333333,  7.33333333,\n",
       "        6.66666667, 32.66666667, 35.33333333,  7.        , 43.        ,\n",
       "        5.66666667,  6.33333333, 42.33333333, 36.66666667, 42.        ,\n",
       "        6.66666667, 54.66666667,  9.33333333, 53.        , 39.66666667,\n",
       "        9.33333333,  7.66666667,  5.33333333,  5.66666667, 16.33333333,\n",
       "       23.        , 43.        , 50.66666667, 22.66666667, 40.33333333,\n",
       "       44.66666667,  5.        , 29.33333333, 59.        , 25.        ,\n",
       "       44.        ,  8.        , 36.        ,  3.66666667,  5.        ,\n",
       "       18.33333333, 24.        , 17.66666667, 29.33333333, 47.66666667,\n",
       "       19.66666667, 14.        ,  7.        , 41.        , 11.66666667,\n",
       "       13.        , 34.33333333, 48.66666667,  4.33333333, 53.33333333,\n",
       "       40.        , 18.66666667, 52.33333333, 46.33333333,  4.66666667,\n",
       "        5.66666667, 33.33333333,  4.33333333, 11.        , 10.66666667,\n",
       "       13.33333333, 19.33333333, 29.        , 39.33333333,  2.66666667,\n",
       "        5.        , 25.66666667, 49.33333333, 13.        , 26.66666667,\n",
       "        5.66666667,  8.66666667, 31.66666667, 44.33333333,  9.        ,\n",
       "       15.66666667, 51.66666667,  4.33333333, 30.66666667,  6.        ,\n",
       "       36.        , 18.33333333, 13.33333333, 17.        , 51.33333333,\n",
       "        7.33333333, 40.33333333,  6.66666667, 31.        , 27.66666667,\n",
       "       16.33333333,  8.66666667,  8.        ,  8.        , 29.        ,\n",
       "       15.33333333, 20.        , 27.        ,  7.33333333,  1.        ,\n",
       "        9.        , 33.        , 46.66666667, 11.33333333,  8.66666667,\n",
       "       39.        , 38.        , 23.        , 14.33333333,  7.33333333,\n",
       "       21.33333333, 47.        ,  7.66666667, 46.        ,  1.66666667,\n",
       "       38.66666667, 13.66666667, 35.66666667, 16.66666667, 45.66666667,\n",
       "       13.        , 47.        , 44.33333333,  2.        , 22.33333333,\n",
       "        4.66666667,  4.33333333, 45.66666667, 46.33333333, 17.        ,\n",
       "       42.33333333, 45.33333333, 45.66666667,  7.66666667, 15.66666667,\n",
       "        6.66666667, 45.        , 42.66666667, 41.33333333, 30.        ,\n",
       "       41.        , 51.66666667, 56.        , 46.66666667, 16.66666667,\n",
       "       37.        , 43.33333333, 16.66666667,  1.        , 25.66666667,\n",
       "       39.33333333, 47.        , 53.66666667, 23.33333333,  6.33333333,\n",
       "       39.66666667, 39.        , 26.        , 46.66666667, 56.        ,\n",
       "       54.33333333,  9.66666667, 22.        , 47.33333333, 20.33333333,\n",
       "        7.66666667,  4.        , 19.        , 54.        ,  6.        ,\n",
       "       21.        ,  6.        , 53.        , 47.33333333, 14.        ,\n",
       "       35.66666667, 51.66666667,  5.        ,  6.66666667, 43.66666667,\n",
       "       42.        , 47.        , 36.33333333, 15.66666667, 22.33333333,\n",
       "       53.        ,  6.33333333, 52.        , 33.        , 15.33333333,\n",
       "       14.        , 31.        , 42.33333333, 17.66666667,  7.66666667,\n",
       "       58.33333333,  9.        ,  3.33333333, 33.66666667,  9.66666667,\n",
       "       53.66666667, 13.33333333,  8.66666667, 15.66666667, 12.33333333,\n",
       "       26.33333333, 16.66666667,  6.        ,  6.        , 13.        ,\n",
       "       22.33333333, 58.33333333,  3.        , 47.33333333, 21.        ,\n",
       "       35.66666667, 20.66666667, 59.33333333,  5.66666667, 27.66666667,\n",
       "       17.        ,  5.66666667, 47.66666667, 19.66666667, 42.33333333,\n",
       "        7.        ,  6.33333333, 40.33333333, 12.33333333, 42.66666667,\n",
       "        2.        , 41.33333333, 44.33333333, 41.66666667,  6.        ,\n",
       "       54.66666667,  7.        , 49.66666667, 50.33333333,  3.        ,\n",
       "       54.66666667, 53.33333333,  8.66666667, 42.66666667, 31.33333333,\n",
       "       27.        , 37.        , 36.33333333, 43.66666667, 26.33333333,\n",
       "       15.        , 15.66666667, 16.        , 13.33333333,  3.        ,\n",
       "       51.        ,  7.66666667, 49.66666667,  9.        , 32.        ,\n",
       "        5.        , 45.66666667])"
      ]
     },
     "execution_count": 33,
     "metadata": {},
     "output_type": "execute_result"
    }
   ],
   "source": [
    "predictions_knn"
   ]
  },
  {
   "cell_type": "code",
   "execution_count": 34,
   "id": "f922cbf7",
   "metadata": {},
   "outputs": [
    {
     "data": {
      "text/plain": [
       "0.9431044547394873"
      ]
     },
     "execution_count": 34,
     "metadata": {},
     "output_type": "execute_result"
    }
   ],
   "source": [
    "knn_model.score(x_test,y_test)"
   ]
  },
  {
   "cell_type": "code",
   "execution_count": 84,
   "id": "e607b7fe",
   "metadata": {},
   "outputs": [
    {
     "data": {
      "text/plain": [
       "0.96649564871026"
      ]
     },
     "execution_count": 84,
     "metadata": {},
     "output_type": "execute_result"
    }
   ],
   "source": [
    "from sklearn.metrics import mean_squared_error, mean_absolute_percentage_error, explained_variance_score, r2_score\n",
    "r2 = []\n",
    "evs = []\n",
    "mape = []\n",
    "mse = []\n",
    "r2.append(r2_score(y_test,predictions))\n",
    "r2_score(y_test,predictions)"
   ]
  },
  {
   "cell_type": "code",
   "execution_count": 85,
   "id": "4ff59522",
   "metadata": {},
   "outputs": [
    {
     "data": {
      "text/plain": [
       "0.9665369495657956"
      ]
     },
     "execution_count": 85,
     "metadata": {},
     "output_type": "execute_result"
    }
   ],
   "source": [
    "evs.append(explained_variance_score(y_test,predictions))\n",
    "explained_variance_score(y_test,predictions)"
   ]
  },
  {
   "cell_type": "code",
   "execution_count": 86,
   "id": "c156a15a",
   "metadata": {},
   "outputs": [
    {
     "data": {
      "text/plain": [
       "0.1142966652811798"
      ]
     },
     "execution_count": 86,
     "metadata": {},
     "output_type": "execute_result"
    }
   ],
   "source": [
    "mape.append(mean_absolute_percentage_error(y_test,predictions))\n",
    "mean_absolute_percentage_error(y_test,predictions)"
   ]
  },
  {
   "cell_type": "code",
   "execution_count": 87,
   "id": "92b01e62",
   "metadata": {},
   "outputs": [
    {
     "data": {
      "text/plain": [
       "3.0755815646450206"
      ]
     },
     "execution_count": 87,
     "metadata": {},
     "output_type": "execute_result"
    }
   ],
   "source": [
    "mse.append(np.sqrt(mean_squared_error(y_test,predictions)))\n",
    "np.sqrt(mean_squared_error(y_test,predictions))"
   ]
  },
  {
   "cell_type": "code",
   "execution_count": 88,
   "id": "206cea52",
   "metadata": {},
   "outputs": [
    {
     "data": {
      "text/plain": [
       "0.03350435128974005"
      ]
     },
     "execution_count": 88,
     "metadata": {},
     "output_type": "execute_result"
    }
   ],
   "source": [
    "err_rf = 1 - rand_forest_model.score(x_test,y_test)\n",
    "err_rf"
   ]
  },
  {
   "cell_type": "code",
   "execution_count": 89,
   "id": "ff39f995",
   "metadata": {},
   "outputs": [
    {
     "data": {
      "text/plain": [
       "[0.035934777051625844,\n",
       " 0.03333129407054558,\n",
       " 0.03329839594205675,\n",
       " 0.034107200854301745,\n",
       " 0.034256471461604265,\n",
       " 0.03407238525300604,\n",
       " 0.03475230724325995,\n",
       " 0.03430752267652437,\n",
       " 0.03371523111976371,\n",
       " 0.03350435128974005]"
      ]
     },
     "execution_count": 89,
     "metadata": {},
     "output_type": "execute_result"
    }
   ],
   "source": [
    "errs_rf = []\n",
    "for i in range(10,101,10):\n",
    "    rf = RandomForestRegressor(n_estimators=i, max_features=\"auto\", random_state=42).fit(x_train,y_train)\n",
    "    err = 1 - rf.score(x_test,y_test)\n",
    "    errs_rf.append(err)\n",
    "errs_rf"
   ]
  },
  {
   "cell_type": "code",
   "execution_count": 90,
   "id": "444355da",
   "metadata": {},
   "outputs": [
    {
     "data": {
      "image/png": "[encoded data removed]",
      "text/plain": [
       "<Figure size 432x288 with 1 Axes>"
      ]
     },
     "metadata": {
      "needs_background": "light"
     },
     "output_type": "display_data"
    }
   ],
   "source": [
    "plt.plot(np.array(range(10,101,10)),errs_rf)\n",
    "plt.show()"
   ]
  },
  {
   "cell_type": "code",
   "execution_count": 91,
   "id": "59e0e246",
   "metadata": {},
   "outputs": [
    {
     "data": {
      "text/plain": [
       "0.9528132196754376"
      ]
     },
     "execution_count": 91,
     "metadata": {},
     "output_type": "execute_result"
    }
   ],
   "source": [
    "r2.append(r2_score(y_test,predictions_dtc))\n",
    "r2_score(y_test,predictions_dtc)"
   ]
  },
  {
   "cell_type": "code",
   "execution_count": 92,
   "id": "417dd9ac",
   "metadata": {},
   "outputs": [
    {
     "data": {
      "text/plain": [
       "0.9528533504439369"
      ]
     },
     "execution_count": 92,
     "metadata": {},
     "output_type": "execute_result"
    }
   ],
   "source": [
    "evs.append(explained_variance_score(y_test,predictions_dtc))\n",
    "explained_variance_score(y_test,predictions_dtc)"
   ]
  },
  {
   "cell_type": "code",
   "execution_count": 93,
   "id": "a80a7045",
   "metadata": {},
   "outputs": [
    {
     "data": {
      "text/plain": [
       "0.16085955566100812"
      ]
     },
     "execution_count": 93,
     "metadata": {},
     "output_type": "execute_result"
    }
   ],
   "source": [
    "mape.append(mean_absolute_percentage_error(y_test,predictions_dtc))\n",
    "mean_absolute_percentage_error(y_test,predictions_dtc)"
   ]
  },
  {
   "cell_type": "code",
   "execution_count": 94,
   "id": "246638fe",
   "metadata": {},
   "outputs": [
    {
     "data": {
      "text/plain": [
       "3.6499491573911844"
      ]
     },
     "execution_count": 94,
     "metadata": {},
     "output_type": "execute_result"
    }
   ],
   "source": [
    "mse.append(np.sqrt(mean_squared_error(y_test,predictions_dtc)))\n",
    "np.sqrt(mean_squared_error(y_test,predictions_dtc))"
   ]
  },
  {
   "cell_type": "code",
   "execution_count": 95,
   "id": "92b70530",
   "metadata": {},
   "outputs": [
    {
     "data": {
      "text/plain": [
       "0.04718678032456236"
      ]
     },
     "execution_count": 95,
     "metadata": {},
     "output_type": "execute_result"
    }
   ],
   "source": [
    "dtc_err = 1 - dtc_model.score(x_test,y_test)\n",
    "dtc_err"
   ]
  },
  {
   "cell_type": "code",
   "execution_count": 96,
   "id": "73c98b81",
   "metadata": {},
   "outputs": [
    {
     "data": {
      "text/plain": [
       "[0.04665101789026327,\n",
       " 0.054092162811083644,\n",
       " 0.046551802624652305,\n",
       " 0.04988543554917979,\n",
       " 0.049766377230446746,\n",
       " 0.04648235193872463,\n",
       " 0.04753403375420062,\n",
       " 0.04446828204682263,\n",
       " 0.05021284592569597,\n",
       " 0.05008386608040172,\n",
       " 0.047524112227639526,\n",
       " 0.045827531185692494,\n",
       " 0.04926037937583094,\n",
       " 0.05123476316148856,\n",
       " 0.05463784677194383,\n",
       " 0.05436996555479423,\n",
       " 0.0422359385705765,\n",
       " 0.042662564212703535,\n",
       " 0.04312887596107495,\n",
       " 0.05286189351750803,\n",
       " 0.04734552474953979,\n",
       " 0.04974653417732455,\n",
       " 0.04003335967401367,\n",
       " 0.05359608648302894,\n",
       " 0.046522038044969016,\n",
       " 0.04719670185112346,\n",
       " 0.045420748596687655,\n",
       " 0.05079821599280043,\n",
       " 0.049825906389813324,\n",
       " 0.04041037768333522,\n",
       " 0.04573823744664263,\n",
       " 0.042771701004875595,\n",
       " 0.053199225420585194,\n",
       " 0.045906903398181265,\n",
       " 0.05007394455384062,\n",
       " 0.04558941454822618,\n",
       " 0.053685380222078805,\n",
       " 0.04677999773555752,\n",
       " 0.04514294585297696,\n",
       " 0.04551004233573741,\n",
       " 0.04804995313537752,\n",
       " 0.04462702647180006,\n",
       " 0.04718678032456236,\n",
       " 0.04721654490424565]"
      ]
     },
     "execution_count": 96,
     "metadata": {},
     "output_type": "execute_result"
    }
   ],
   "source": [
    "errs_dtc = []\n",
    "for i in range(44):\n",
    "    dtc = tree.DecisionTreeRegressor(max_depth=1100,random_state=i)\n",
    "    dtc.fit(x_train,y_train)\n",
    "    err = 1 - dtc.score(x_test,y_test)\n",
    "    errs_dtc.append(err)\n",
    "errs_dtc"
   ]
  },
  {
   "cell_type": "code",
   "execution_count": 97,
   "id": "97c0838b",
   "metadata": {},
   "outputs": [
    {
     "data": {
      "image/png": "[encoded data removed]",
      "text/plain": [
       "<Figure size 432x288 with 1 Axes>"
      ]
     },
     "metadata": {
      "needs_background": "light"
     },
     "output_type": "display_data"
    }
   ],
   "source": [
    "plt.plot(np.array(range(44)),errs_dtc)\n",
    "plt.show()"
   ]
  },
  {
   "cell_type": "code",
   "execution_count": 98,
   "id": "ceb14df5",
   "metadata": {},
   "outputs": [
    {
     "data": {
      "text/plain": [
       "0.9045795887102115"
      ]
     },
     "execution_count": 98,
     "metadata": {},
     "output_type": "execute_result"
    }
   ],
   "source": [
    "r2.append(r2_score(y_test,predictions_svr))\n",
    "r2_score(y_test,predictions_svr)"
   ]
  },
  {
   "cell_type": "code",
   "execution_count": 99,
   "id": "0f0458a4",
   "metadata": {},
   "outputs": [
    {
     "data": {
      "text/plain": [
       "0.9058694984109148"
      ]
     },
     "execution_count": 99,
     "metadata": {},
     "output_type": "execute_result"
    }
   ],
   "source": [
    "evs.append(explained_variance_score(y_test,predictions_svr))\n",
    "explained_variance_score(y_test,predictions_svr)"
   ]
  },
  {
   "cell_type": "code",
   "execution_count": 100,
   "id": "868aa689",
   "metadata": {},
   "outputs": [
    {
     "data": {
      "text/plain": [
       "0.21907228448718508"
      ]
     },
     "execution_count": 100,
     "metadata": {},
     "output_type": "execute_result"
    }
   ],
   "source": [
    "mape.append(mean_absolute_percentage_error(y_test,predictions_svr))\n",
    "mean_absolute_percentage_error(y_test,predictions_svr)"
   ]
  },
  {
   "cell_type": "code",
   "execution_count": 101,
   "id": "2c92996f",
   "metadata": {},
   "outputs": [
    {
     "data": {
      "text/plain": [
       "5.1903576463246806"
      ]
     },
     "execution_count": 101,
     "metadata": {},
     "output_type": "execute_result"
    }
   ],
   "source": [
    "mse.append(np.sqrt(mean_squared_error(y_test,predictions_svr)))\n",
    "np.sqrt(mean_squared_error(y_test,predictions_svr))"
   ]
  },
  {
   "cell_type": "code",
   "execution_count": 102,
   "id": "896f717c",
   "metadata": {},
   "outputs": [
    {
     "data": {
      "text/plain": [
       "0.09542041128978851"
      ]
     },
     "execution_count": 102,
     "metadata": {},
     "output_type": "execute_result"
    }
   ],
   "source": [
    "err_svr = 1 - svr_model.score(x_test,y_test)\n",
    "err_svr"
   ]
  },
  {
   "cell_type": "code",
   "execution_count": 103,
   "id": "18f37212",
   "metadata": {},
   "outputs": [
    {
     "data": {
      "text/plain": [
       "0.9431044547394873"
      ]
     },
     "execution_count": 103,
     "metadata": {},
     "output_type": "execute_result"
    }
   ],
   "source": [
    "r2.append(r2_score(y_test,predictions_knn))\n",
    "r2_score(y_test,predictions_knn)"
   ]
  },
  {
   "cell_type": "code",
   "execution_count": 104,
   "id": "72cb29d3",
   "metadata": {},
   "outputs": [
    {
     "data": {
      "text/plain": [
       "0.9435068771680488"
      ]
     },
     "execution_count": 104,
     "metadata": {},
     "output_type": "execute_result"
    }
   ],
   "source": [
    "evs.append(explained_variance_score(y_test,predictions_knn))\n",
    "explained_variance_score(y_test,predictions_knn)"
   ]
  },
  {
   "cell_type": "code",
   "execution_count": 105,
   "id": "8cd08546",
   "metadata": {},
   "outputs": [
    {
     "data": {
      "text/plain": [
       "0.15160621123031454"
      ]
     },
     "execution_count": 105,
     "metadata": {},
     "output_type": "execute_result"
    }
   ],
   "source": [
    "mape.append(mean_absolute_percentage_error(y_test,predictions_knn))\n",
    "mean_absolute_percentage_error(y_test,predictions_knn)"
   ]
  },
  {
   "cell_type": "code",
   "execution_count": 106,
   "id": "105cc725",
   "metadata": {},
   "outputs": [
    {
     "data": {
      "text/plain": [
       "4.0078898223238015"
      ]
     },
     "execution_count": 106,
     "metadata": {},
     "output_type": "execute_result"
    }
   ],
   "source": [
    "mse.append(np.sqrt(mean_squared_error(y_test,predictions_knn)))\n",
    "np.sqrt(mean_squared_error(y_test,predictions_knn))"
   ]
  },
  {
   "cell_type": "code",
   "execution_count": 107,
   "id": "8cdcdc3a",
   "metadata": {},
   "outputs": [
    {
     "data": {
      "text/plain": [
       "0.05689554526051266"
      ]
     },
     "execution_count": 107,
     "metadata": {},
     "output_type": "execute_result"
    }
   ],
   "source": [
    "err_knn = 1 - knn_model.score(x_test,y_test)\n",
    "err_knn"
   ]
  },
  {
   "cell_type": "code",
   "execution_count": 108,
   "id": "507e66a1",
   "metadata": {},
   "outputs": [
    {
     "data": {
      "text/plain": [
       "[0.05689554526051266,\n",
       " 0.05675051183404667,\n",
       " 0.055375611487026744,\n",
       " 0.05706834518145176,\n",
       " 0.05773275561860336,\n",
       " 0.05807116003363977,\n",
       " 0.05974816787880055,\n",
       " 0.06036048407711714,\n",
       " 0.0624259991341406,\n",
       " 0.06273925550550696,\n",
       " 0.06348514793058269,\n",
       " 0.06338493793638489,\n",
       " 0.06453379784234681,\n",
       " 0.06454057669091995,\n",
       " 0.06535443434905275,\n",
       " 0.06623583572390246,\n",
       " 0.06693828606454777,\n",
       " 0.06696752625994629,\n",
       " 0.06782564786635448,\n",
       " 0.06900417623436406,\n",
       " 0.06919857787466221,\n",
       " 0.06931037211625646,\n",
       " 0.0694881019886241,\n",
       " 0.0701485978078834,\n",
       " 0.07043523071909186,\n",
       " 0.0706920536635719,\n",
       " 0.07124418176234992]"
      ]
     },
     "execution_count": 108,
     "metadata": {},
     "output_type": "execute_result"
    }
   ],
   "source": [
    "errs_knn = []\n",
    "for i in range(3,30):\n",
    "        knn = KNeighborsRegressor(n_neighbors=i)\n",
    "        knn.fit(x_train,y_train)\n",
    "        errs_knn.append(1-knn.score(x_test,y_test))\n",
    "errs_knn"
   ]
  },
  {
   "cell_type": "code",
   "execution_count": 109,
   "id": "d058437b",
   "metadata": {},
   "outputs": [
    {
     "data": {
      "image/png": "[encoded data removed]",
      "text/plain": [
       "<Figure size 432x288 with 1 Axes>"
      ]
     },
     "metadata": {
      "needs_background": "light"
     },
     "output_type": "display_data"
    }
   ],
   "source": [
    "plt.plot(np.array(range(3,30)),errs_knn)\n",
    "plt.show()"
   ]
  },
  {
   "cell_type": "code",
   "execution_count": 110,
   "id": "4821afc4",
   "metadata": {},
   "outputs": [],
   "source": [
    "scores = [rand_forest_model.score(x_test,y_test),dtc_model.score(x_test,y_test),svr_model.score(x_test,y_test),knn_model.score(x_test,y_test)]"
   ]
  },
  {
   "cell_type": "code",
   "execution_count": 111,
   "id": "d530ecdc",
   "metadata": {},
   "outputs": [
    {
     "data": {
      "text/plain": [
       "[0.96649564871026, 0.9528132196754376, 0.9045795887102115, 0.9431044547394873]"
      ]
     },
     "execution_count": 111,
     "metadata": {},
     "output_type": "execute_result"
    }
   ],
   "source": [
    "scores"
   ]
  },
  {
   "cell_type": "code",
   "execution_count": 112,
   "id": "93e0dce0",
   "metadata": {},
   "outputs": [],
   "source": [
    "mod=['RF','DT','SVR','KNN']"
   ]
  },
  {
   "cell_type": "code",
   "execution_count": 123,
   "id": "c52f1107",
   "metadata": {
    "scrolled": true
   },
   "outputs": [
    {
     "data": {
      "image/png": "[encoded data removed]",
      "text/plain": [
       "<Figure size 432x288 with 1 Axes>"
      ]
     },
     "metadata": {
      "needs_background": "light"
     },
     "output_type": "display_data"
    }
   ],
   "source": [
    "plt.plot(mod,scores,label=\"scores\")\n",
    "plt.show()"
   ]
  },
  {
   "cell_type": "code",
   "execution_count": 124,
   "id": "3f1873e8",
   "metadata": {},
   "outputs": [
    {
     "data": {
      "image/png": "[encoded data removed]",
      "text/plain": [
       "<Figure size 432x288 with 1 Axes>"
      ]
     },
     "metadata": {
      "needs_background": "light"
     },
     "output_type": "display_data"
    }
   ],
   "source": [
    "plt.plot(mod,evs,label='evs')\n",
    "plt.show()"
   ]
  },
  {
   "cell_type": "code",
   "execution_count": 128,
   "id": "458483d4",
   "metadata": {},
   "outputs": [
    {
     "data": {
      "image/png": "[encoded data removed]",
      "text/plain": [
       "<Figure size 432x288 with 1 Axes>"
      ]
     },
     "metadata": {
      "needs_background": "light"
     },
     "output_type": "display_data"
    }
   ],
   "source": [
    "plt.plot(mod,scores,label=\"Scores\")\n",
    "plt.plot(mod,evs,linestyle='dotted',label='Explained Variance Score')\n",
    "plt.legend()\n",
    "plt.show()"
   ]
  },
  {
   "cell_type": "code",
   "execution_count": 127,
   "id": "93fcd0f9",
   "metadata": {},
   "outputs": [
    {
     "data": {
      "image/png": "[encoded data removed]",
      "text/plain": [
       "<Figure size 432x288 with 1 Axes>"
      ]
     },
     "metadata": {
      "needs_background": "light"
     },
     "output_type": "display_data"
    }
   ],
   "source": [
    "plt.plot(mod,mape)\n",
    "plt.show()"
   ]
  },
  {
   "cell_type": "code",
   "execution_count": 129,
   "id": "d3beb454",
   "metadata": {},
   "outputs": [
    {
     "data": {
      "image/png": "[encoded data removed]",
      "text/plain": [
       "<Figure size 432x288 with 1 Axes>"
      ]
     },
     "metadata": {
      "needs_background": "light"
     },
     "output_type": "display_data"
    }
   ],
   "source": [
    "plt.plot(mod,mse)\n",
    "plt.show()"
   ]
  },
  {
   "cell_type": "code",
   "execution_count": 134,
   "id": "deaea592",
   "metadata": {},
   "outputs": [
    {
     "data": {
      "text/plain": [
       "'RF'"
      ]
     },
     "execution_count": 134,
     "metadata": {},
     "output_type": "execute_result"
    }
   ],
   "source": [
    "mod[scores.index(max(scores))]"
   ]
  },
  {
   "cell_type": "code",
   "execution_count": 136,
   "id": "4da2e20f",
   "metadata": {},
   "outputs": [
    {
     "data": {
      "text/plain": [
       "'RF'"
      ]
     },
     "execution_count": 136,
     "metadata": {},
     "output_type": "execute_result"
    }
   ],
   "source": [
    "mod[evs.index(max(evs))]"
   ]
  },
  {
   "cell_type": "code",
   "execution_count": 139,
   "id": "2d269ce1",
   "metadata": {},
   "outputs": [
    {
     "data": {
      "text/plain": [
       "'RF'"
      ]
     },
     "execution_count": 139,
     "metadata": {},
     "output_type": "execute_result"
    }
   ],
   "source": [
    "mod[mape.index(min(mape))]"
   ]
  },
  {
   "cell_type": "code",
   "execution_count": 140,
   "id": "7ac04ad6",
   "metadata": {},
   "outputs": [
    {
     "data": {
      "text/plain": [
       "'RF'"
      ]
     },
     "execution_count": 140,
     "metadata": {},
     "output_type": "execute_result"
    }
   ],
   "source": [
    "mod[mse.index(min(mse))]"
   ]
  }
 ],
 "metadata": {
  "kernelspec": {
   "display_name": "Python 3 (ipykernel)",
   "language": "python",
   "name": "python3"
  },
  "language_info": {
   "codemirror_mode": {
    "name": "ipython",
    "version": 3
   },
   "file_extension": ".py",
   "mimetype": "text/x-python",
   "name": "python",
   "nbconvert_exporter": "python",
   "pygments_lexer": "ipython3",
   "version": "3.9.7"
  }
 },
 "nbformat": 4,
 "nbformat_minor": 5
}
